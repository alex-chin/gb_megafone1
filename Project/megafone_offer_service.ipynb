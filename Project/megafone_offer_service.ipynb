{
 "cells": [
  {
   "cell_type": "markdown",
   "metadata": {
    "collapsed": true,
    "pycharm": {
     "name": "#%% md\n"
    }
   },
   "source": [
    "## Постановка задачи\n",
    "У нас появился запрос из отдела продаж и маркетинга. Как вы знаете «МегаФон» предлагает обширный набор различных услуг своим абонентам. При этом разным пользователям интересны разные услуги. Поэтому необходимо построить  алгоритм, который **для каждой пары пользователь-услуга определит вероятность подключения услуги**."
   ]
  },
  {
   "cell_type": "markdown",
   "metadata": {
    "pycharm": {
     "name": "#%% md\n"
    }
   },
   "source": [
    "### Исходные данные\n",
    "\n",
    "#### наборы данных\n",
    "- **features.csv** (22Г): id, buy_time, <feature_list>\n",
    "нормализованный анонимизированный набор признаков, характеризующий профиль потребления абонента. Эти данные привязаны к определенному времени, поскольку профиль абонента может меняться с течением времени.\n",
    "- **data_train.csv** (27М): id, vas_id, buy_time, target\n",
    "информация об отклике абонентов на предложение подключения одной из услуг. Каждому пользователю может быть сделано несколько предложений в разное время, каждое из которых он может или принять, или отклонить.\n",
    "- **data_test.csv**: id, vas_id, buy_time\n",
    "тестовый набор\n",
    "\n",
    "#### переменные\n",
    "   - **target** - целевая переменная, где 1 означает подключение услуги, 0 - абонент не подключил услугу соответственно.\n",
    "   - **buy_time** - время покупки, представлено в формате timestamp, для работы с этим столбцом понадобится функция datetime.fromtimestamp из модуля datetime.\n",
    "   - **id** - идентификатор абонента\n",
    "   - **vas_id** - подключаемая услуга\n",
    "\n",
    "\n"
   ]
  },
  {
   "cell_type": "markdown",
   "metadata": {
    "pycharm": {
     "name": "#%% md\n"
    }
   },
   "source": [
    "### Анализ схемы данных\n",
    "\n",
    "1. считаем data_train и data_test и проверим на разнообразие услуг и абонентов\n",
    "2. Восстановим наборы абонентов и услуг\n",
    "3. обработаем features.csv отфильруем только то что есть в data_train и data_test!\n",
    "\n",
    "![Схема](data_schema.png)"
   ]
  },
  {
   "cell_type": "code",
   "metadata": {
    "pycharm": {
     "name": "#%%\n"
    }
   },
   "source": [
    "import os.path\n",
    "\n",
    "import pandas as pd\n",
    "from matplotlib import pyplot as plt\n",
    "import numpy as np"
   ],
   "execution_count": 28,
   "outputs": []
  },
  {
   "cell_type": "markdown",
   "source": [
    "Считаем исходные данные"
   ],
   "metadata": {
    "collapsed": false,
    "pycharm": {
     "name": "#%% md\n"
    }
   }
  },
  {
   "cell_type": "code",
   "execution_count": 158,
   "outputs": [
    {
     "data": {
      "text/plain": "   Unnamed: 0       id  vas_id    buy_time  target\n0           0   540968     8.0  1537131600     0.0\n1           1  1454121     4.0  1531688400     0.0\n2           2  2458816     1.0  1534107600     0.0",
      "text/html": "<div>\n<style scoped>\n    .dataframe tbody tr th:only-of-type {\n        vertical-align: middle;\n    }\n\n    .dataframe tbody tr th {\n        vertical-align: top;\n    }\n\n    .dataframe thead th {\n        text-align: right;\n    }\n</style>\n<table border=\"1\" class=\"dataframe\">\n  <thead>\n    <tr style=\"text-align: right;\">\n      <th></th>\n      <th>Unnamed: 0</th>\n      <th>id</th>\n      <th>vas_id</th>\n      <th>buy_time</th>\n      <th>target</th>\n    </tr>\n  </thead>\n  <tbody>\n    <tr>\n      <th>0</th>\n      <td>0</td>\n      <td>540968</td>\n      <td>8.0</td>\n      <td>1537131600</td>\n      <td>0.0</td>\n    </tr>\n    <tr>\n      <th>1</th>\n      <td>1</td>\n      <td>1454121</td>\n      <td>4.0</td>\n      <td>1531688400</td>\n      <td>0.0</td>\n    </tr>\n    <tr>\n      <th>2</th>\n      <td>2</td>\n      <td>2458816</td>\n      <td>1.0</td>\n      <td>1534107600</td>\n      <td>0.0</td>\n    </tr>\n  </tbody>\n</table>\n</div>"
     },
     "execution_count": 158,
     "metadata": {},
     "output_type": "execute_result"
    }
   ],
   "source": [
    "data_train = pd.read_csv('data_train.csv')\n",
    "data_train.head(3)"
   ],
   "metadata": {
    "collapsed": false,
    "pycharm": {
     "name": "#%%\n"
    }
   }
  },
  {
   "cell_type": "code",
   "execution_count": 159,
   "outputs": [
    {
     "data": {
      "text/plain": "   Unnamed: 0       id  vas_id    buy_time\n0           0  3130519     2.0  1548018000\n1           1  2000860     4.0  1548018000\n2           2  1099444     2.0  1546808400",
      "text/html": "<div>\n<style scoped>\n    .dataframe tbody tr th:only-of-type {\n        vertical-align: middle;\n    }\n\n    .dataframe tbody tr th {\n        vertical-align: top;\n    }\n\n    .dataframe thead th {\n        text-align: right;\n    }\n</style>\n<table border=\"1\" class=\"dataframe\">\n  <thead>\n    <tr style=\"text-align: right;\">\n      <th></th>\n      <th>Unnamed: 0</th>\n      <th>id</th>\n      <th>vas_id</th>\n      <th>buy_time</th>\n    </tr>\n  </thead>\n  <tbody>\n    <tr>\n      <th>0</th>\n      <td>0</td>\n      <td>3130519</td>\n      <td>2.0</td>\n      <td>1548018000</td>\n    </tr>\n    <tr>\n      <th>1</th>\n      <td>1</td>\n      <td>2000860</td>\n      <td>4.0</td>\n      <td>1548018000</td>\n    </tr>\n    <tr>\n      <th>2</th>\n      <td>2</td>\n      <td>1099444</td>\n      <td>2.0</td>\n      <td>1546808400</td>\n    </tr>\n  </tbody>\n</table>\n</div>"
     },
     "execution_count": 159,
     "metadata": {},
     "output_type": "execute_result"
    }
   ],
   "source": [
    "data_test = pd.read_csv('data_test.csv')\n",
    "data_test.head(3)"
   ],
   "metadata": {
    "collapsed": false,
    "pycharm": {
     "name": "#%%\n"
    }
   }
  },
  {
   "cell_type": "markdown",
   "source": [
    "Объединим наборы для восстановления id абонентов"
   ],
   "metadata": {
    "collapsed": false,
    "pycharm": {
     "name": "#%% md\n"
    }
   }
  },
  {
   "cell_type": "code",
   "execution_count": 160,
   "outputs": [
    {
     "data": {
      "text/plain": "   Unnamed: 0       id  vas_id    buy_time\n0           0   540968     8.0  1537131600\n1           1  1454121     4.0  1531688400\n2           2  2458816     1.0  1534107600",
      "text/html": "<div>\n<style scoped>\n    .dataframe tbody tr th:only-of-type {\n        vertical-align: middle;\n    }\n\n    .dataframe tbody tr th {\n        vertical-align: top;\n    }\n\n    .dataframe thead th {\n        text-align: right;\n    }\n</style>\n<table border=\"1\" class=\"dataframe\">\n  <thead>\n    <tr style=\"text-align: right;\">\n      <th></th>\n      <th>Unnamed: 0</th>\n      <th>id</th>\n      <th>vas_id</th>\n      <th>buy_time</th>\n    </tr>\n  </thead>\n  <tbody>\n    <tr>\n      <th>0</th>\n      <td>0</td>\n      <td>540968</td>\n      <td>8.0</td>\n      <td>1537131600</td>\n    </tr>\n    <tr>\n      <th>1</th>\n      <td>1</td>\n      <td>1454121</td>\n      <td>4.0</td>\n      <td>1531688400</td>\n    </tr>\n    <tr>\n      <th>2</th>\n      <td>2</td>\n      <td>2458816</td>\n      <td>1.0</td>\n      <td>1534107600</td>\n    </tr>\n  </tbody>\n</table>\n</div>"
     },
     "execution_count": 160,
     "metadata": {},
     "output_type": "execute_result"
    }
   ],
   "source": [
    "data_all = pd.concat([data_train.drop(columns='target'), data_test])\n",
    "data_all.head(3)"
   ],
   "metadata": {
    "collapsed": false,
    "pycharm": {
     "name": "#%%\n"
    }
   }
  },
  {
   "cell_type": "code",
   "execution_count": 27,
   "outputs": [
    {
     "data": {
      "text/plain": "(902884, 872577, 8)"
     },
     "execution_count": 27,
     "metadata": {},
     "output_type": "execute_result"
    }
   ],
   "source": [
    "data_all.shape[0], data_all.id.nunique(), data_all.vas_id.nunique()"
   ],
   "metadata": {
    "collapsed": false,
    "pycharm": {
     "name": "#%%\n"
    }
   }
  },
  {
   "cell_type": "markdown",
   "source": [
    "> нам необходимо отфильтровать features.csv по 872 тыс абонентов"
   ],
   "metadata": {
    "collapsed": false,
    "pycharm": {
     "name": "#%% md\n"
    }
   }
  },
  {
   "cell_type": "markdown",
   "source": [
    "оценим количество строк в features.csv"
   ],
   "metadata": {
    "collapsed": false,
    "pycharm": {
     "name": "#%% md\n"
    }
   }
  },
  {
   "cell_type": "code",
   "execution_count": null,
   "outputs": [],
   "source": [
    "num_lines = 0\n",
    "with open(\"features.csv\") as f:\n",
    "    for line in f:\n",
    "        num_lines +=1\n",
    "        if num_lines % 10000 == 0:\n",
    "            print(num_lines, line[0:20])"
   ],
   "metadata": {
    "collapsed": false,
    "pycharm": {
     "name": "#%%\n"
    }
   }
  },
  {
   "cell_type": "markdown",
   "source": [
    ">Всего в файле 4,5 млн запиисей"
   ],
   "metadata": {
    "collapsed": false,
    "pycharm": {
     "name": "#%% md\n"
    }
   }
  },
  {
   "cell_type": "markdown",
   "source": [
    "### Эксперимент над частью профиля\n",
    "\n",
    "Создадим для экспериментов срез файла features.csv - первые 5 тыс. записей"
   ],
   "metadata": {
    "collapsed": false,
    "pycharm": {
     "name": "#%% md\n"
    }
   }
  },
  {
   "cell_type": "code",
   "execution_count": 38,
   "outputs": [
    {
     "name": "stdout",
     "output_type": "stream",
     "text": [
      "4900 98\t2402038\t154559880\n",
      "4800 198\t2813843\t15462036\n",
      "4700 298\t3554903\t15328980\n",
      "4600 398\t3661489\t15419700\n",
      "4500 498\t3748859\t15310836\n",
      "4400 598\t3863771\t15468084\n",
      "4300 698\t3963168\t15322932\n",
      "4200 798\t4047744\t15377364\n",
      "4100 898\t4129298\t15310836\n",
      "4000 998\t4201230\t15322932\n",
      "3900 1098\t4270438\t1538946\n",
      "3800 1198\t4344118\t1535922\n",
      "3700 1298\t50258\t154257480\n",
      "3600 1398\t133220\t15389460\n",
      "3500 1498\t216934\t15310836\n",
      "3400 1598\t293264\t15377364\n",
      "3300 1698\t366781\t15455988\n",
      "3200 1798\t439178\t15365268\n",
      "3100 1898\t568256\t15425748\n",
      "3000 1998\t879298\t15310836\n",
      "2900 2098\t923040\t15449940\n",
      "2800 2198\t942906\t15449940\n",
      "2700 2298\t961432\t15462036\n",
      "2600 2398\t981936\t15377364\n",
      "2500 2498\t1004744\t1541365\n",
      "2400 2598\t1040382\t1532293\n",
      "2300 2698\t1071139\t1545598\n",
      "2200 2798\t1089994\t1533502\n",
      "2100 2898\t1111412\t1535317\n",
      "2000 2998\t1128739\t1544994\n",
      "1900 3098\t1146979\t1534107\n",
      "1800 3198\t1165797\t1546203\n",
      "1700 3298\t1186322\t1536526\n",
      "1600 3398\t1241864\t1544389\n",
      "1500 3498\t1257553\t1535317\n",
      "1400 3598\t1278188\t1544389\n",
      "1300 3698\t1297428\t1543784\n",
      "1200 3798\t1317219\t1542574\n",
      "1100 3898\t1334822\t1531688\n",
      "1000 3998\t1356463\t1534107\n",
      "900 4098\t1376797\t1542574\n",
      "800 4198\t1395045\t1541365\n",
      "700 4298\t1413731\t1534107\n",
      "600 4398\t1432856\t1541970\n",
      "500 4498\t1453134\t1536526\n",
      "400 4598\t1469450\t1535922\n",
      "300 4698\t1485273\t1535317\n",
      "200 4798\t1514715\t1546203\n",
      "100 4898\t1749811\t1532293\n",
      "0 4998\t1866399\t1535317\n"
     ]
    }
   ],
   "source": [
    "num_lines = 5000\n",
    "with open(\"features_lite.csv\", \"x\") as lite:\n",
    "    with open(\"features.csv\") as f:\n",
    "        for line in f:\n",
    "            lite.write(line)\n",
    "            num_lines -= 1\n",
    "            if num_lines % 100 == 0:\n",
    "                print(num_lines, line[0:20])\n",
    "            if num_lines <= 0:\n",
    "                break"
   ],
   "metadata": {
    "collapsed": false,
    "pycharm": {
     "name": "#%%\n"
    }
   }
  },
  {
   "cell_type": "code",
   "execution_count": 40,
   "outputs": [
    {
     "data": {
      "text/plain": "   Unnamed: 0       id    buy_time          0           1           2  \\\n0           0  2013026  1531688400  18.910029   46.980888    4.969214   \n1           1  2014722  1539550800  36.690029  152.400888  448.069214   \n2           2  2015199  1545598800 -67.019971  157.050888  -63.180786   \n\n            3           4          5         6  ...         243         244  \\\n0   -1.386798    3.791754  -14.01179 -16.08618  ... -977.373846 -613.770792   \n1  563.833202  463.841754  568.99821 -16.08618  ... -891.373846 -544.770792   \n2  178.103202  -68.598246  156.99821   3.51382  ... -977.373846 -613.770792   \n\n         245        246           247        248       249        250  \\\n0 -25.996269 -37.630448   -301.747724 -25.832889 -0.694428 -12.175933   \n1 -20.996269  48.369552     80.252276 -13.832889 -0.694428  -1.175933   \n2 -12.996269 -37.630448  10829.252276 -25.832889 -0.694428 -12.175933   \n\n       251  252  \n0 -0.45614  0.0  \n1 -0.45614  0.0  \n2 -0.45614  0.0  \n\n[3 rows x 256 columns]",
      "text/html": "<div>\n<style scoped>\n    .dataframe tbody tr th:only-of-type {\n        vertical-align: middle;\n    }\n\n    .dataframe tbody tr th {\n        vertical-align: top;\n    }\n\n    .dataframe thead th {\n        text-align: right;\n    }\n</style>\n<table border=\"1\" class=\"dataframe\">\n  <thead>\n    <tr style=\"text-align: right;\">\n      <th></th>\n      <th>Unnamed: 0</th>\n      <th>id</th>\n      <th>buy_time</th>\n      <th>0</th>\n      <th>1</th>\n      <th>2</th>\n      <th>3</th>\n      <th>4</th>\n      <th>5</th>\n      <th>6</th>\n      <th>...</th>\n      <th>243</th>\n      <th>244</th>\n      <th>245</th>\n      <th>246</th>\n      <th>247</th>\n      <th>248</th>\n      <th>249</th>\n      <th>250</th>\n      <th>251</th>\n      <th>252</th>\n    </tr>\n  </thead>\n  <tbody>\n    <tr>\n      <th>0</th>\n      <td>0</td>\n      <td>2013026</td>\n      <td>1531688400</td>\n      <td>18.910029</td>\n      <td>46.980888</td>\n      <td>4.969214</td>\n      <td>-1.386798</td>\n      <td>3.791754</td>\n      <td>-14.01179</td>\n      <td>-16.08618</td>\n      <td>...</td>\n      <td>-977.373846</td>\n      <td>-613.770792</td>\n      <td>-25.996269</td>\n      <td>-37.630448</td>\n      <td>-301.747724</td>\n      <td>-25.832889</td>\n      <td>-0.694428</td>\n      <td>-12.175933</td>\n      <td>-0.45614</td>\n      <td>0.0</td>\n    </tr>\n    <tr>\n      <th>1</th>\n      <td>1</td>\n      <td>2014722</td>\n      <td>1539550800</td>\n      <td>36.690029</td>\n      <td>152.400888</td>\n      <td>448.069214</td>\n      <td>563.833202</td>\n      <td>463.841754</td>\n      <td>568.99821</td>\n      <td>-16.08618</td>\n      <td>...</td>\n      <td>-891.373846</td>\n      <td>-544.770792</td>\n      <td>-20.996269</td>\n      <td>48.369552</td>\n      <td>80.252276</td>\n      <td>-13.832889</td>\n      <td>-0.694428</td>\n      <td>-1.175933</td>\n      <td>-0.45614</td>\n      <td>0.0</td>\n    </tr>\n    <tr>\n      <th>2</th>\n      <td>2</td>\n      <td>2015199</td>\n      <td>1545598800</td>\n      <td>-67.019971</td>\n      <td>157.050888</td>\n      <td>-63.180786</td>\n      <td>178.103202</td>\n      <td>-68.598246</td>\n      <td>156.99821</td>\n      <td>3.51382</td>\n      <td>...</td>\n      <td>-977.373846</td>\n      <td>-613.770792</td>\n      <td>-12.996269</td>\n      <td>-37.630448</td>\n      <td>10829.252276</td>\n      <td>-25.832889</td>\n      <td>-0.694428</td>\n      <td>-12.175933</td>\n      <td>-0.45614</td>\n      <td>0.0</td>\n    </tr>\n  </tbody>\n</table>\n<p>3 rows × 256 columns</p>\n</div>"
     },
     "execution_count": 40,
     "metadata": {},
     "output_type": "execute_result"
    }
   ],
   "source": [
    "features = pd.read_csv('features_lite.csv', sep=\"\\t\")\n",
    "features.head(3)"
   ],
   "metadata": {
    "collapsed": false,
    "pycharm": {
     "name": "#%%\n"
    }
   }
  },
  {
   "cell_type": "code",
   "execution_count": 42,
   "outputs": [
    {
     "data": {
      "text/plain": "(4999, 256)"
     },
     "execution_count": 42,
     "metadata": {},
     "output_type": "execute_result"
    }
   ],
   "source": [
    "features.shape"
   ],
   "metadata": {
    "collapsed": false,
    "pycharm": {
     "name": "#%%\n"
    }
   }
  },
  {
   "cell_type": "markdown",
   "source": [
    "#### Фильтрация по клиентам\n",
    "Проведем фильтрацию features только по клиентам  data_all"
   ],
   "metadata": {
    "collapsed": false,
    "pycharm": {
     "name": "#%% md\n"
    }
   }
  },
  {
   "cell_type": "code",
   "execution_count": 55,
   "outputs": [
    {
     "data": {
      "text/plain": "    Unnamed: 0       id    buy_time           0            1           2  \\\n13          13  2046132  1534712400  300.820029  1599.480888  286.879214   \n16          16  2050810  1540760400  -86.209971    91.820888  -84.480786   \n19          19  2070757  1540760400  -96.799971  -408.179112 -110.740786   \n20          20  2071522  1544994000  -94.939971  -363.699112 -108.880786   \n22          22  2075318  1533502800  -75.639971   669.690888  -89.580786   \n\n              3           4           5         6  ...         243  \\\n13  1585.013202  281.461754  1563.90821 -16.08618  ... -977.373846   \n16   110.333202  -89.898246    89.22821 -16.08618  ... -977.373846   \n19  -460.786798 -114.038246  -479.77179 -16.08618  ... -925.373846   \n20  -411.226798 -114.298246  -432.33179 -16.08618  ... -977.373846   \n22   732.343202  -94.998246   736.65821 -16.08618  ... -501.373846   \n\n           244        245         246         247        248       249  \\\n13 -613.770792 -25.996269  -35.630448 -295.747724 -17.832889 -0.694428   \n16 -613.770792 -23.996269  190.369552 -286.747724 -25.832889 -0.694428   \n19 -561.770792 -21.996269  -37.630448 -151.747724 -24.832889  0.305572   \n20 -613.770792 -25.996269  -37.630448 -306.747724 -25.832889 -0.694428   \n22 -242.770792 -25.996269  -37.630448 -167.747724 -14.832889  2.305572   \n\n          250      251  252  \n13  -4.175933 -0.45614  0.0  \n16 -12.175933 -0.45614  0.0  \n19 -12.175933 -0.45614  1.0  \n20 -12.175933 -0.45614  0.0  \n22  -4.175933 -0.45614  0.0  \n\n[5 rows x 256 columns]",
      "text/html": "<div>\n<style scoped>\n    .dataframe tbody tr th:only-of-type {\n        vertical-align: middle;\n    }\n\n    .dataframe tbody tr th {\n        vertical-align: top;\n    }\n\n    .dataframe thead th {\n        text-align: right;\n    }\n</style>\n<table border=\"1\" class=\"dataframe\">\n  <thead>\n    <tr style=\"text-align: right;\">\n      <th></th>\n      <th>Unnamed: 0</th>\n      <th>id</th>\n      <th>buy_time</th>\n      <th>0</th>\n      <th>1</th>\n      <th>2</th>\n      <th>3</th>\n      <th>4</th>\n      <th>5</th>\n      <th>6</th>\n      <th>...</th>\n      <th>243</th>\n      <th>244</th>\n      <th>245</th>\n      <th>246</th>\n      <th>247</th>\n      <th>248</th>\n      <th>249</th>\n      <th>250</th>\n      <th>251</th>\n      <th>252</th>\n    </tr>\n  </thead>\n  <tbody>\n    <tr>\n      <th>13</th>\n      <td>13</td>\n      <td>2046132</td>\n      <td>1534712400</td>\n      <td>300.820029</td>\n      <td>1599.480888</td>\n      <td>286.879214</td>\n      <td>1585.013202</td>\n      <td>281.461754</td>\n      <td>1563.90821</td>\n      <td>-16.08618</td>\n      <td>...</td>\n      <td>-977.373846</td>\n      <td>-613.770792</td>\n      <td>-25.996269</td>\n      <td>-35.630448</td>\n      <td>-295.747724</td>\n      <td>-17.832889</td>\n      <td>-0.694428</td>\n      <td>-4.175933</td>\n      <td>-0.45614</td>\n      <td>0.0</td>\n    </tr>\n    <tr>\n      <th>16</th>\n      <td>16</td>\n      <td>2050810</td>\n      <td>1540760400</td>\n      <td>-86.209971</td>\n      <td>91.820888</td>\n      <td>-84.480786</td>\n      <td>110.333202</td>\n      <td>-89.898246</td>\n      <td>89.22821</td>\n      <td>-16.08618</td>\n      <td>...</td>\n      <td>-977.373846</td>\n      <td>-613.770792</td>\n      <td>-23.996269</td>\n      <td>190.369552</td>\n      <td>-286.747724</td>\n      <td>-25.832889</td>\n      <td>-0.694428</td>\n      <td>-12.175933</td>\n      <td>-0.45614</td>\n      <td>0.0</td>\n    </tr>\n    <tr>\n      <th>19</th>\n      <td>19</td>\n      <td>2070757</td>\n      <td>1540760400</td>\n      <td>-96.799971</td>\n      <td>-408.179112</td>\n      <td>-110.740786</td>\n      <td>-460.786798</td>\n      <td>-114.038246</td>\n      <td>-479.77179</td>\n      <td>-16.08618</td>\n      <td>...</td>\n      <td>-925.373846</td>\n      <td>-561.770792</td>\n      <td>-21.996269</td>\n      <td>-37.630448</td>\n      <td>-151.747724</td>\n      <td>-24.832889</td>\n      <td>0.305572</td>\n      <td>-12.175933</td>\n      <td>-0.45614</td>\n      <td>1.0</td>\n    </tr>\n    <tr>\n      <th>20</th>\n      <td>20</td>\n      <td>2071522</td>\n      <td>1544994000</td>\n      <td>-94.939971</td>\n      <td>-363.699112</td>\n      <td>-108.880786</td>\n      <td>-411.226798</td>\n      <td>-114.298246</td>\n      <td>-432.33179</td>\n      <td>-16.08618</td>\n      <td>...</td>\n      <td>-977.373846</td>\n      <td>-613.770792</td>\n      <td>-25.996269</td>\n      <td>-37.630448</td>\n      <td>-306.747724</td>\n      <td>-25.832889</td>\n      <td>-0.694428</td>\n      <td>-12.175933</td>\n      <td>-0.45614</td>\n      <td>0.0</td>\n    </tr>\n    <tr>\n      <th>22</th>\n      <td>22</td>\n      <td>2075318</td>\n      <td>1533502800</td>\n      <td>-75.639971</td>\n      <td>669.690888</td>\n      <td>-89.580786</td>\n      <td>732.343202</td>\n      <td>-94.998246</td>\n      <td>736.65821</td>\n      <td>-16.08618</td>\n      <td>...</td>\n      <td>-501.373846</td>\n      <td>-242.770792</td>\n      <td>-25.996269</td>\n      <td>-37.630448</td>\n      <td>-167.747724</td>\n      <td>-14.832889</td>\n      <td>2.305572</td>\n      <td>-4.175933</td>\n      <td>-0.45614</td>\n      <td>0.0</td>\n    </tr>\n  </tbody>\n</table>\n<p>5 rows × 256 columns</p>\n</div>"
     },
     "execution_count": 55,
     "metadata": {},
     "output_type": "execute_result"
    }
   ],
   "source": [
    "merge = features.id.isin(data_all.id)\n",
    "features1 = features[merge]\n",
    "features1.head(5)"
   ],
   "metadata": {
    "collapsed": false,
    "pycharm": {
     "name": "#%%\n"
    }
   }
  },
  {
   "cell_type": "code",
   "execution_count": 54,
   "outputs": [
    {
     "data": {
      "text/plain": "(946, 4999)"
     },
     "execution_count": 54,
     "metadata": {},
     "output_type": "execute_result"
    }
   ],
   "source": [
    "features1.id.value_counts().sum(), features.id.count()"
   ],
   "metadata": {
    "collapsed": false,
    "pycharm": {
     "name": "#%%\n"
    }
   }
  },
  {
   "cell_type": "markdown",
   "source": [
    "> по предварительной выборке можно сократить набор features в 5 раз"
   ],
   "metadata": {
    "collapsed": false,
    "pycharm": {
     "name": "#%% md\n"
    }
   }
  },
  {
   "cell_type": "markdown",
   "source": [
    "#### Пропуски"
   ],
   "metadata": {
    "collapsed": false,
    "pycharm": {
     "name": "#%% md\n"
    }
   }
  },
  {
   "cell_type": "code",
   "execution_count": 57,
   "outputs": [
    {
     "name": "stdout",
     "output_type": "stream",
     "text": [
      "ID уникален?  True\n",
      "Есть ли дубли в строках? 0\n",
      "Сколько процент признаков могут принимать null-значениями? 0%\n"
     ]
    }
   ],
   "source": [
    "print(\"ID уникален? \", features1.id.is_unique)\n",
    "print(\"Есть ли дубли в строках?\", features1.duplicated().sum())\n",
    "print(\"Сколько процент признаков могут принимать null-значениями? %d%%\" % float(\n",
    "    (features1.isnull().sum() > 0).sum() / features1.shape[1] * 100))"
   ],
   "metadata": {
    "collapsed": false,
    "pycharm": {
     "name": "#%%\n"
    }
   }
  },
  {
   "cell_type": "markdown",
   "source": [
    "#### Анализ типа переменных\n",
    "Просмотрим визуально признаки  features"
   ],
   "metadata": {
    "collapsed": false,
    "pycharm": {
     "name": "#%% md\n"
    }
   }
  },
  {
   "cell_type": "code",
   "execution_count": 56,
   "outputs": [
    {
     "data": {
      "text/plain": "                      13            16            19            20  \\\nUnnamed: 0  1.300000e+01  1.600000e+01  1.900000e+01  2.000000e+01   \nid          2.046132e+06  2.050810e+06  2.070757e+06  2.071522e+06   \nbuy_time    1.534712e+09  1.540760e+09  1.540760e+09  1.544994e+09   \n0           3.008200e+02 -8.620997e+01 -9.679997e+01 -9.493997e+01   \n1           1.599481e+03  9.182089e+01 -4.081791e+02 -3.636991e+02   \n...                  ...           ...           ...           ...   \n248        -1.783289e+01 -2.583289e+01 -2.483289e+01 -2.583289e+01   \n249        -6.944285e-01 -6.944285e-01  3.055715e-01 -6.944285e-01   \n250        -4.175933e+00 -1.217593e+01 -1.217593e+01 -1.217593e+01   \n251        -4.561399e-01 -4.561399e-01 -4.561399e-01 -4.561399e-01   \n252         0.000000e+00  0.000000e+00  1.000000e+00  0.000000e+00   \n\n                      22            27            33            34  \\\nUnnamed: 0  2.200000e+01  2.700000e+01  3.300000e+01  3.400000e+01   \nid          2.075318e+06  2.085648e+06  2.102126e+06  2.104377e+06   \nbuy_time    1.533503e+09  1.539551e+09  1.538341e+09  1.532293e+09   \n0          -7.563997e+01  6.844003e+01  1.998100e+02 -9.679997e+01   \n1           6.696909e+02  2.604309e+02  1.850109e+02 -4.081791e+02   \n...                  ...           ...           ...           ...   \n248        -1.483289e+01 -6.832889e+00 -8.832889e+00  3.216711e+01   \n249         2.305572e+00 -6.944285e-01 -6.944285e-01 -6.944285e-01   \n250        -4.175933e+00 -5.175933e+00  4.824067e+00  4.582407e+01   \n251        -4.561399e-01 -4.561399e-01 -4.561399e-01 -4.561399e-01   \n252         0.000000e+00  0.000000e+00  1.000000e+00  0.000000e+00   \n\n                      39            43  \nUnnamed: 0  3.900000e+01  4.300000e+01  \nid          2.133447e+06  2.212313e+06  \nbuy_time    1.535317e+09  1.537736e+09  \n0           3.544800e+02 -2.899997e+01  \n1           5.370089e+01 -6.071911e+01  \n...                  ...           ...  \n248        -8.328886e-01 -2.483289e+01  \n249        -6.944285e-01 -6.944285e-01  \n250         1.282407e+01 -1.217593e+01  \n251        -4.561399e-01  5.438601e-01  \n252         0.000000e+00  1.000000e+00  \n\n[256 rows x 10 columns]",
      "text/html": "<div>\n<style scoped>\n    .dataframe tbody tr th:only-of-type {\n        vertical-align: middle;\n    }\n\n    .dataframe tbody tr th {\n        vertical-align: top;\n    }\n\n    .dataframe thead th {\n        text-align: right;\n    }\n</style>\n<table border=\"1\" class=\"dataframe\">\n  <thead>\n    <tr style=\"text-align: right;\">\n      <th></th>\n      <th>13</th>\n      <th>16</th>\n      <th>19</th>\n      <th>20</th>\n      <th>22</th>\n      <th>27</th>\n      <th>33</th>\n      <th>34</th>\n      <th>39</th>\n      <th>43</th>\n    </tr>\n  </thead>\n  <tbody>\n    <tr>\n      <th>Unnamed: 0</th>\n      <td>1.300000e+01</td>\n      <td>1.600000e+01</td>\n      <td>1.900000e+01</td>\n      <td>2.000000e+01</td>\n      <td>2.200000e+01</td>\n      <td>2.700000e+01</td>\n      <td>3.300000e+01</td>\n      <td>3.400000e+01</td>\n      <td>3.900000e+01</td>\n      <td>4.300000e+01</td>\n    </tr>\n    <tr>\n      <th>id</th>\n      <td>2.046132e+06</td>\n      <td>2.050810e+06</td>\n      <td>2.070757e+06</td>\n      <td>2.071522e+06</td>\n      <td>2.075318e+06</td>\n      <td>2.085648e+06</td>\n      <td>2.102126e+06</td>\n      <td>2.104377e+06</td>\n      <td>2.133447e+06</td>\n      <td>2.212313e+06</td>\n    </tr>\n    <tr>\n      <th>buy_time</th>\n      <td>1.534712e+09</td>\n      <td>1.540760e+09</td>\n      <td>1.540760e+09</td>\n      <td>1.544994e+09</td>\n      <td>1.533503e+09</td>\n      <td>1.539551e+09</td>\n      <td>1.538341e+09</td>\n      <td>1.532293e+09</td>\n      <td>1.535317e+09</td>\n      <td>1.537736e+09</td>\n    </tr>\n    <tr>\n      <th>0</th>\n      <td>3.008200e+02</td>\n      <td>-8.620997e+01</td>\n      <td>-9.679997e+01</td>\n      <td>-9.493997e+01</td>\n      <td>-7.563997e+01</td>\n      <td>6.844003e+01</td>\n      <td>1.998100e+02</td>\n      <td>-9.679997e+01</td>\n      <td>3.544800e+02</td>\n      <td>-2.899997e+01</td>\n    </tr>\n    <tr>\n      <th>1</th>\n      <td>1.599481e+03</td>\n      <td>9.182089e+01</td>\n      <td>-4.081791e+02</td>\n      <td>-3.636991e+02</td>\n      <td>6.696909e+02</td>\n      <td>2.604309e+02</td>\n      <td>1.850109e+02</td>\n      <td>-4.081791e+02</td>\n      <td>5.370089e+01</td>\n      <td>-6.071911e+01</td>\n    </tr>\n    <tr>\n      <th>...</th>\n      <td>...</td>\n      <td>...</td>\n      <td>...</td>\n      <td>...</td>\n      <td>...</td>\n      <td>...</td>\n      <td>...</td>\n      <td>...</td>\n      <td>...</td>\n      <td>...</td>\n    </tr>\n    <tr>\n      <th>248</th>\n      <td>-1.783289e+01</td>\n      <td>-2.583289e+01</td>\n      <td>-2.483289e+01</td>\n      <td>-2.583289e+01</td>\n      <td>-1.483289e+01</td>\n      <td>-6.832889e+00</td>\n      <td>-8.832889e+00</td>\n      <td>3.216711e+01</td>\n      <td>-8.328886e-01</td>\n      <td>-2.483289e+01</td>\n    </tr>\n    <tr>\n      <th>249</th>\n      <td>-6.944285e-01</td>\n      <td>-6.944285e-01</td>\n      <td>3.055715e-01</td>\n      <td>-6.944285e-01</td>\n      <td>2.305572e+00</td>\n      <td>-6.944285e-01</td>\n      <td>-6.944285e-01</td>\n      <td>-6.944285e-01</td>\n      <td>-6.944285e-01</td>\n      <td>-6.944285e-01</td>\n    </tr>\n    <tr>\n      <th>250</th>\n      <td>-4.175933e+00</td>\n      <td>-1.217593e+01</td>\n      <td>-1.217593e+01</td>\n      <td>-1.217593e+01</td>\n      <td>-4.175933e+00</td>\n      <td>-5.175933e+00</td>\n      <td>4.824067e+00</td>\n      <td>4.582407e+01</td>\n      <td>1.282407e+01</td>\n      <td>-1.217593e+01</td>\n    </tr>\n    <tr>\n      <th>251</th>\n      <td>-4.561399e-01</td>\n      <td>-4.561399e-01</td>\n      <td>-4.561399e-01</td>\n      <td>-4.561399e-01</td>\n      <td>-4.561399e-01</td>\n      <td>-4.561399e-01</td>\n      <td>-4.561399e-01</td>\n      <td>-4.561399e-01</td>\n      <td>-4.561399e-01</td>\n      <td>5.438601e-01</td>\n    </tr>\n    <tr>\n      <th>252</th>\n      <td>0.000000e+00</td>\n      <td>0.000000e+00</td>\n      <td>1.000000e+00</td>\n      <td>0.000000e+00</td>\n      <td>0.000000e+00</td>\n      <td>0.000000e+00</td>\n      <td>1.000000e+00</td>\n      <td>0.000000e+00</td>\n      <td>0.000000e+00</td>\n      <td>1.000000e+00</td>\n    </tr>\n  </tbody>\n</table>\n<p>256 rows × 10 columns</p>\n</div>"
     },
     "execution_count": 56,
     "metadata": {},
     "output_type": "execute_result"
    }
   ],
   "source": [
    "features1.head(10).T"
   ],
   "metadata": {
    "collapsed": false,
    "pycharm": {
     "name": "#%%\n"
    }
   }
  },
  {
   "cell_type": "markdown",
   "source": [
    "Часть признаков имеют категориальный/бинарный характер: 6, 8, 9, 10, 11, 12... Поэтому можно провести более глубокий анализ"
   ],
   "metadata": {
    "collapsed": false,
    "pycharm": {
     "name": "#%% md\n"
    }
   }
  },
  {
   "cell_type": "code",
   "execution_count": 5,
   "outputs": [],
   "source": [
    "class FeaturesInspect:\n",
    "    dataframe = None\n",
    "    feat_nunique = None\n",
    "    feats = dict()\n",
    "\n",
    "    def __init__(self, dataframe, num_cat=10):\n",
    "        self.dataframe = dataframe\n",
    "        self.feat_nunique = self.dataframe.apply(lambda x: x.nunique(dropna=False))\n",
    "        self.num_cat = num_cat\n",
    "\n",
    "    def show_nunique(self):\n",
    "        plt.title(\"Распределение уникальных значений признаков\")\n",
    "        self.feat_nunique.hist(bins=100, figsize=(10, 5))\n",
    "\n",
    "    def collect(self):\n",
    "        self.feats['all'] = set(self.feat_nunique.index.tolist())\n",
    "        self._collect_const()\n",
    "        self._collect_numeric()\n",
    "        self.feats['other'] = self.feats['all'] - (self.feats['numeric'] | self.feats['const'])\n",
    "        self._collect_binary()\n",
    "        self._collect_categorical()\n",
    "        self.feats['extra'] = self.feats['categorical']\n",
    "        self.feats['ok'] = self.feats['binary'] | self.feats['categorical'] | self.feats['numeric']\n",
    "\n",
    "    def print(self):\n",
    "        print('Всего уникальных признаков :', len(self.feats['all']))\n",
    "        print('...константные  признаки :', len(self.feats['const']))\n",
    "        print('...вещественные признаки :', len(self.feats['numeric']))\n",
    "        self.feats['other'] = self.feats['all'] - (self.feats['numeric'] | self.feats['const'])\n",
    "        print('...другие признаки :', len(self.feats['other']))\n",
    "        print('...бинарные признаки :', len(self.feats['binary']))\n",
    "        print('...категориальные признаки :', len(self.feats['categorical']))\n",
    "        self.feats['extra'] = self.feats['categorical']\n",
    "        self.feats['ok'] = self.feats['binary'] | self.feats['categorical'] | self.feats['numeric']\n",
    "\n",
    "    def _collect_const(self):\n",
    "        self.feats['const'] = set(self.feat_nunique[self.feat_nunique == 1].index.tolist())\n",
    "        return len(self.feats['const'])\n",
    "\n",
    "    def _collect_numeric(self):\n",
    "        f_numeric = (self.dataframe.fillna(0).astype(int).sum() - self.dataframe.fillna(0).sum()).abs()\n",
    "        self.feats['numeric'] = set(f_numeric[f_numeric > 0].index.tolist())\n",
    "        return len(self.feats['numeric'])\n",
    "\n",
    "    def _collect_categorical(self):\n",
    "        self.feats['categorical'] = set(\n",
    "            self.feat_nunique.loc[self.feats['other']][\n",
    "                self.feat_nunique.loc[self.feats['other']] <= self.num_cat].index.tolist())\n",
    "        return len(self.feats['categorical'])\n",
    "\n",
    "    def _collect_binary(self):\n",
    "        f_other = self.feats['other']\n",
    "        self.feats['binary'] = set(self.dataframe.loc[:, f_other].columns[(\n",
    "                (self.dataframe.loc[:, f_other].max() == 1) &\n",
    "                (self.dataframe.loc[:, f_other].min() == 0) &\n",
    "                (self.dataframe.loc[:, f_other].isnull().sum() == 0))])\n",
    "        return len(self.feats['binary'])\n"
   ],
   "metadata": {
    "collapsed": false,
    "pycharm": {
     "name": "#%%\n"
    }
   }
  },
  {
   "cell_type": "code",
   "execution_count": 116,
   "outputs": [
    {
     "data": {
      "text/plain": "(256,)"
     },
     "execution_count": 116,
     "metadata": {},
     "output_type": "execute_result"
    }
   ],
   "source": [
    "feat_inspector = FeaturesInspect(features, num_cat=10)\n",
    "feat_inspector.feat_nunique.shape"
   ],
   "metadata": {
    "collapsed": false,
    "pycharm": {
     "name": "#%%\n"
    }
   }
  },
  {
   "cell_type": "code",
   "execution_count": 117,
   "outputs": [],
   "source": [
    "#feat_inspector.show_nunique()"
   ],
   "metadata": {
    "collapsed": false,
    "pycharm": {
     "name": "#%%\n"
    }
   }
  },
  {
   "cell_type": "code",
   "execution_count": 118,
   "outputs": [
    {
     "name": "stdout",
     "output_type": "stream",
     "text": [
      "Всего уникальных признаков : 256\n",
      "...константные  признаки : 13\n",
      "...вещественные признаки : 247\n",
      "...другие признаки : 4\n",
      "...бинарные признаки : 1\n",
      "...категориальные признаки : 1\n"
     ]
    }
   ],
   "source": [
    "feat_inspector.collect()\n",
    "feat_inspector.print()"
   ],
   "metadata": {
    "collapsed": false,
    "pycharm": {
     "name": "#%%\n"
    }
   }
  },
  {
   "cell_type": "markdown",
   "source": [
    "### Обработка файла большого объема features"
   ],
   "metadata": {
    "collapsed": false,
    "pycharm": {
     "name": "#%% md\n"
    }
   }
  },
  {
   "cell_type": "markdown",
   "source": [
    "#### Чтение файла по частям"
   ],
   "metadata": {
    "collapsed": false,
    "pycharm": {
     "name": "#%% md\n"
    }
   }
  },
  {
   "cell_type": "code",
   "execution_count": 164,
   "outputs": [],
   "source": [
    "import pyarrow"
   ],
   "metadata": {
    "collapsed": false,
    "pycharm": {
     "name": "#%%\n"
    }
   }
  },
  {
   "cell_type": "markdown",
   "source": [
    "создание итератора чтения файла по 100 тыс строк"
   ],
   "metadata": {
    "collapsed": false,
    "pycharm": {
     "name": "#%% md\n"
    }
   }
  },
  {
   "cell_type": "code",
   "execution_count": 172,
   "outputs": [],
   "source": [
    "df_big = pd.read_csv('features.csv', chunksize=100000, iterator=True, sep=\"\\t\")"
   ],
   "metadata": {
    "collapsed": false,
    "pycharm": {
     "name": "#%%\n"
    }
   }
  },
  {
   "cell_type": "markdown",
   "source": [
    "#### Фильтрация и запись по частям"
   ],
   "metadata": {
    "collapsed": false,
    "pycharm": {
     "name": "#%% md\n"
    }
   }
  },
  {
   "cell_type": "markdown",
   "source": [
    "Фильтрация каждой части по списку абонентов и запись в отдельный файл в директории data"
   ],
   "metadata": {
    "collapsed": false,
    "pycharm": {
     "name": "#%% md\n"
    }
   }
  },
  {
   "cell_type": "code",
   "execution_count": null,
   "outputs": [],
   "source": [
    "iter=1\n",
    "for dfb in df_big:\n",
    "    # фильтрация по всем клиентам\n",
    "    merge = dfb['id'].isin(data_all.id)\n",
    "    dfb_filter = dfb[merge]\n",
    "    file_name= 'data/features'+f\"{iter:03d}.parquet\"\n",
    "    print(file_name)\n",
    "    dfb_filter.to_parquet(file_name)\n",
    "    iter +=1"
   ],
   "metadata": {
    "collapsed": false,
    "pycharm": {
     "name": "#%%\n"
    }
   }
  },
  {
   "cell_type": "markdown",
   "source": [
    "#### Объединение всех частей"
   ],
   "metadata": {
    "collapsed": false,
    "pycharm": {
     "name": "#%% md\n"
    }
   }
  },
  {
   "cell_type": "markdown",
   "source": [
    "Чтение всей директории data преобразование в pandas и сохрание нового набора"
   ],
   "metadata": {
    "collapsed": false,
    "pycharm": {
     "name": "#%% md\n"
    }
   }
  },
  {
   "cell_type": "code",
   "execution_count": null,
   "outputs": [],
   "source": [
    "table = pyarrow.parquet.read_table('data')\n",
    "df_new = table.to_pandas()\n",
    "df_new.head(5)"
   ],
   "metadata": {
    "collapsed": false,
    "pycharm": {
     "name": "#%%\n",
     "is_executing": true
    }
   }
  },
  {
   "cell_type": "code",
   "execution_count": 182,
   "outputs": [
    {
     "data": {
      "text/plain": "(902389, 256)"
     },
     "execution_count": 182,
     "metadata": {},
     "output_type": "execute_result"
    }
   ],
   "source": [
    "df_new.shape"
   ],
   "metadata": {
    "collapsed": false,
    "pycharm": {
     "name": "#%%\n"
    }
   }
  },
  {
   "cell_type": "code",
   "execution_count": 183,
   "outputs": [],
   "source": [
    "df_new.to_parquet('features_clients.parquet')"
   ],
   "metadata": {
    "collapsed": false,
    "pycharm": {
     "name": "#%%\n"
    }
   }
  },
  {
   "cell_type": "code",
   "execution_count": 184,
   "outputs": [
    {
     "data": {
      "text/plain": "1855311784"
     },
     "execution_count": 184,
     "metadata": {},
     "output_type": "execute_result"
    }
   ],
   "source": [
    "df_new.memory_usage().sum()"
   ],
   "metadata": {
    "collapsed": false,
    "pycharm": {
     "name": "#%%\n"
    }
   }
  },
  {
   "cell_type": "markdown",
   "source": [
    "> Набор занимает в памяти около 2Г"
   ],
   "metadata": {
    "collapsed": false,
    "pycharm": {
     "name": "#%% md\n"
    }
   }
  },
  {
   "cell_type": "code",
   "execution_count": 186,
   "outputs": [
    {
     "data": {
      "text/plain": "202144348"
     },
     "execution_count": 186,
     "metadata": {},
     "output_type": "execute_result"
    }
   ],
   "source": [
    "import os\n",
    "os.path.getsize('features_clients.parquet')"
   ],
   "metadata": {
    "collapsed": false,
    "pycharm": {
     "name": "#%%\n"
    }
   }
  },
  {
   "cell_type": "markdown",
   "source": [
    ">Файл занимает на диске около 200М"
   ],
   "metadata": {
    "collapsed": false,
    "pycharm": {
     "name": "#%% md\n"
    }
   }
  },
  {
   "cell_type": "code",
   "execution_count": 3,
   "outputs": [],
   "source": [
    "features_new=pd.read_parquet('features_clients.parquet')"
   ],
   "metadata": {
    "collapsed": false,
    "pycharm": {
     "name": "#%%\n"
    }
   }
  },
  {
   "cell_type": "markdown",
   "source": [
    "### Преобразование переменных\n"
   ],
   "metadata": {
    "collapsed": false,
    "pycharm": {
     "name": "#%% md\n"
    }
   }
  },
  {
   "cell_type": "code",
   "execution_count": 6,
   "outputs": [],
   "source": [
    "feat_inspector = FeaturesInspect(features_new, num_cat=10)"
   ],
   "metadata": {
    "collapsed": false,
    "pycharm": {
     "name": "#%%\n"
    }
   }
  },
  {
   "cell_type": "code",
   "execution_count": 7,
   "outputs": [
    {
     "name": "stdout",
     "output_type": "stream",
     "text": [
      "Всего уникальных признаков : 256\n",
      "...константные  признаки : 5\n",
      "...вещественные признаки : 247\n",
      "...другие признаки : 4\n",
      "...бинарные признаки : 0\n",
      "...категориальные признаки : 0\n"
     ]
    }
   ],
   "source": [
    "feat_inspector.collect()\n",
    "feat_inspector.print()"
   ],
   "metadata": {
    "collapsed": false,
    "pycharm": {
     "name": "#%%\n"
    }
   }
  },
  {
   "cell_type": "code",
   "execution_count": 8,
   "outputs": [
    {
     "data": {
      "text/plain": "{'139', '203', '75', '81', '85'}"
     },
     "execution_count": 8,
     "metadata": {},
     "output_type": "execute_result"
    }
   ],
   "source": [
    "feat_inspector.feats['const']"
   ],
   "metadata": {
    "collapsed": false,
    "pycharm": {
     "name": "#%%\n"
    }
   }
  },
  {
   "cell_type": "code",
   "execution_count": 58,
   "outputs": [
    {
     "ename": "KeyError",
     "evalue": "\"None of [Index(['81', '85', '75', '139', '203'], dtype='object')] are in the [columns]\"",
     "output_type": "error",
     "traceback": [
      "\u001B[1;31m---------------------------------------------------------------------------\u001B[0m",
      "\u001B[1;31mKeyError\u001B[0m                                  Traceback (most recent call last)",
      "\u001B[1;32mC:\\Users\\8523~1\\AppData\\Local\\Temp/ipykernel_36152/941953633.py\u001B[0m in \u001B[0;36m<module>\u001B[1;34m\u001B[0m\n\u001B[1;32m----> 1\u001B[1;33m \u001B[0mfeatures_new\u001B[0m\u001B[1;33m[\u001B[0m\u001B[0mlist\u001B[0m\u001B[1;33m(\u001B[0m\u001B[0mfeat_inspector\u001B[0m\u001B[1;33m.\u001B[0m\u001B[0mfeats\u001B[0m\u001B[1;33m[\u001B[0m\u001B[1;34m'const'\u001B[0m\u001B[1;33m]\u001B[0m\u001B[1;33m)\u001B[0m\u001B[1;33m]\u001B[0m\u001B[1;33m.\u001B[0m\u001B[0mhead\u001B[0m\u001B[1;33m(\u001B[0m\u001B[1;33m)\u001B[0m\u001B[1;33m\u001B[0m\u001B[1;33m\u001B[0m\u001B[0m\n\u001B[0m",
      "\u001B[1;32mc:\\projects\\geekbrainsai\\gb_megafone1\\venv\\lib\\site-packages\\pandas\\core\\frame.py\u001B[0m in \u001B[0;36m__getitem__\u001B[1;34m(self, key)\u001B[0m\n\u001B[0;32m   3462\u001B[0m             \u001B[1;32mif\u001B[0m \u001B[0mis_iterator\u001B[0m\u001B[1;33m(\u001B[0m\u001B[0mkey\u001B[0m\u001B[1;33m)\u001B[0m\u001B[1;33m:\u001B[0m\u001B[1;33m\u001B[0m\u001B[1;33m\u001B[0m\u001B[0m\n\u001B[0;32m   3463\u001B[0m                 \u001B[0mkey\u001B[0m \u001B[1;33m=\u001B[0m \u001B[0mlist\u001B[0m\u001B[1;33m(\u001B[0m\u001B[0mkey\u001B[0m\u001B[1;33m)\u001B[0m\u001B[1;33m\u001B[0m\u001B[1;33m\u001B[0m\u001B[0m\n\u001B[1;32m-> 3464\u001B[1;33m             \u001B[0mindexer\u001B[0m \u001B[1;33m=\u001B[0m \u001B[0mself\u001B[0m\u001B[1;33m.\u001B[0m\u001B[0mloc\u001B[0m\u001B[1;33m.\u001B[0m\u001B[0m_get_listlike_indexer\u001B[0m\u001B[1;33m(\u001B[0m\u001B[0mkey\u001B[0m\u001B[1;33m,\u001B[0m \u001B[0maxis\u001B[0m\u001B[1;33m=\u001B[0m\u001B[1;36m1\u001B[0m\u001B[1;33m)\u001B[0m\u001B[1;33m[\u001B[0m\u001B[1;36m1\u001B[0m\u001B[1;33m]\u001B[0m\u001B[1;33m\u001B[0m\u001B[1;33m\u001B[0m\u001B[0m\n\u001B[0m\u001B[0;32m   3465\u001B[0m \u001B[1;33m\u001B[0m\u001B[0m\n\u001B[0;32m   3466\u001B[0m         \u001B[1;31m# take() does not accept boolean indexers\u001B[0m\u001B[1;33m\u001B[0m\u001B[1;33m\u001B[0m\u001B[1;33m\u001B[0m\u001B[0m\n",
      "\u001B[1;32mc:\\projects\\geekbrainsai\\gb_megafone1\\venv\\lib\\site-packages\\pandas\\core\\indexing.py\u001B[0m in \u001B[0;36m_get_listlike_indexer\u001B[1;34m(self, key, axis)\u001B[0m\n\u001B[0;32m   1312\u001B[0m             \u001B[0mkeyarr\u001B[0m\u001B[1;33m,\u001B[0m \u001B[0mindexer\u001B[0m\u001B[1;33m,\u001B[0m \u001B[0mnew_indexer\u001B[0m \u001B[1;33m=\u001B[0m \u001B[0max\u001B[0m\u001B[1;33m.\u001B[0m\u001B[0m_reindex_non_unique\u001B[0m\u001B[1;33m(\u001B[0m\u001B[0mkeyarr\u001B[0m\u001B[1;33m)\u001B[0m\u001B[1;33m\u001B[0m\u001B[1;33m\u001B[0m\u001B[0m\n\u001B[0;32m   1313\u001B[0m \u001B[1;33m\u001B[0m\u001B[0m\n\u001B[1;32m-> 1314\u001B[1;33m         \u001B[0mself\u001B[0m\u001B[1;33m.\u001B[0m\u001B[0m_validate_read_indexer\u001B[0m\u001B[1;33m(\u001B[0m\u001B[0mkeyarr\u001B[0m\u001B[1;33m,\u001B[0m \u001B[0mindexer\u001B[0m\u001B[1;33m,\u001B[0m \u001B[0maxis\u001B[0m\u001B[1;33m)\u001B[0m\u001B[1;33m\u001B[0m\u001B[1;33m\u001B[0m\u001B[0m\n\u001B[0m\u001B[0;32m   1315\u001B[0m \u001B[1;33m\u001B[0m\u001B[0m\n\u001B[0;32m   1316\u001B[0m         if needs_i8_conversion(ax.dtype) or isinstance(\n",
      "\u001B[1;32mc:\\projects\\geekbrainsai\\gb_megafone1\\venv\\lib\\site-packages\\pandas\\core\\indexing.py\u001B[0m in \u001B[0;36m_validate_read_indexer\u001B[1;34m(self, key, indexer, axis)\u001B[0m\n\u001B[0;32m   1372\u001B[0m                 \u001B[1;32mif\u001B[0m \u001B[0muse_interval_msg\u001B[0m\u001B[1;33m:\u001B[0m\u001B[1;33m\u001B[0m\u001B[1;33m\u001B[0m\u001B[0m\n\u001B[0;32m   1373\u001B[0m                     \u001B[0mkey\u001B[0m \u001B[1;33m=\u001B[0m \u001B[0mlist\u001B[0m\u001B[1;33m(\u001B[0m\u001B[0mkey\u001B[0m\u001B[1;33m)\u001B[0m\u001B[1;33m\u001B[0m\u001B[1;33m\u001B[0m\u001B[0m\n\u001B[1;32m-> 1374\u001B[1;33m                 \u001B[1;32mraise\u001B[0m \u001B[0mKeyError\u001B[0m\u001B[1;33m(\u001B[0m\u001B[1;34mf\"None of [{key}] are in the [{axis_name}]\"\u001B[0m\u001B[1;33m)\u001B[0m\u001B[1;33m\u001B[0m\u001B[1;33m\u001B[0m\u001B[0m\n\u001B[0m\u001B[0;32m   1375\u001B[0m \u001B[1;33m\u001B[0m\u001B[0m\n\u001B[0;32m   1376\u001B[0m             \u001B[0mnot_found\u001B[0m \u001B[1;33m=\u001B[0m \u001B[0mlist\u001B[0m\u001B[1;33m(\u001B[0m\u001B[0mensure_index\u001B[0m\u001B[1;33m(\u001B[0m\u001B[0mkey\u001B[0m\u001B[1;33m)\u001B[0m\u001B[1;33m[\u001B[0m\u001B[0mmissing_mask\u001B[0m\u001B[1;33m.\u001B[0m\u001B[0mnonzero\u001B[0m\u001B[1;33m(\u001B[0m\u001B[1;33m)\u001B[0m\u001B[1;33m[\u001B[0m\u001B[1;36m0\u001B[0m\u001B[1;33m]\u001B[0m\u001B[1;33m]\u001B[0m\u001B[1;33m.\u001B[0m\u001B[0munique\u001B[0m\u001B[1;33m(\u001B[0m\u001B[1;33m)\u001B[0m\u001B[1;33m)\u001B[0m\u001B[1;33m\u001B[0m\u001B[1;33m\u001B[0m\u001B[0m\n",
      "\u001B[1;31mKeyError\u001B[0m: \"None of [Index(['81', '85', '75', '139', '203'], dtype='object')] are in the [columns]\""
     ]
    }
   ],
   "source": [
    "features_new[list(feat_inspector.feats['const'])].head()"
   ],
   "metadata": {
    "collapsed": false,
    "pycharm": {
     "name": "#%%\n"
    }
   }
  },
  {
   "cell_type": "markdown",
   "source": [
    "#### Удаление константных признаков"
   ],
   "metadata": {
    "collapsed": false,
    "pycharm": {
     "name": "#%% md\n"
    }
   }
  },
  {
   "cell_type": "code",
   "source": [
    "features_new.drop(columns=list(feat_inspector.feats['const']),inplace=True)"
   ],
   "metadata": {
    "collapsed": false,
    "pycharm": {
     "name": "#%%\n"
    }
   },
   "execution_count": 21,
   "outputs": []
  },
  {
   "cell_type": "code",
   "execution_count": 22,
   "outputs": [],
   "source": [
    "features_new.to_parquet('features_drop.parquet')"
   ],
   "metadata": {
    "collapsed": false,
    "pycharm": {
     "name": "#%%\n"
    }
   }
  },
  {
   "cell_type": "code",
   "execution_count": 53,
   "outputs": [],
   "source": [
    "features_new = pd.read_parquet('features_drop.parquet')"
   ],
   "metadata": {
    "collapsed": false,
    "pycharm": {
     "name": "#%%\n"
    }
   }
  },
  {
   "cell_type": "code",
   "execution_count": 54,
   "outputs": [
    {
     "data": {
      "text/plain": "Index(['Unnamed: 0', 'id', 'buy_time', '0', '1', '2', '3', '4', '5', '6',\n       ...\n       '243', '244', '245', '246', '247', '248', '249', '250', '251', '252'],\n      dtype='object', length=251)"
     },
     "execution_count": 54,
     "metadata": {},
     "output_type": "execute_result"
    }
   ],
   "source": [
    "features_new.columns"
   ],
   "metadata": {
    "collapsed": false,
    "pycharm": {
     "name": "#%%\n"
    }
   }
  },
  {
   "cell_type": "markdown",
   "source": [
    "#### Удаление старого индекса"
   ],
   "metadata": {
    "collapsed": false,
    "pycharm": {
     "name": "#%% md\n"
    }
   }
  },
  {
   "cell_type": "code",
   "execution_count": 55,
   "outputs": [],
   "source": [
    "features_new.drop(columns=['Unnamed: 0'], inplace=True)"
   ],
   "metadata": {
    "collapsed": false,
    "pycharm": {
     "name": "#%%\n"
    }
   }
  },
  {
   "cell_type": "markdown",
   "source": [
    "#### Установка нового индекса"
   ],
   "metadata": {
    "collapsed": false,
    "pycharm": {
     "name": "#%% md\n"
    }
   }
  },
  {
   "cell_type": "code",
   "execution_count": 56,
   "outputs": [],
   "source": [
    "features_new.set_index('id', inplace=True)"
   ],
   "metadata": {
    "collapsed": false,
    "pycharm": {
     "name": "#%%\n"
    }
   }
  },
  {
   "cell_type": "code",
   "execution_count": 59,
   "outputs": [
    {
     "data": {
      "text/plain": "           buy_time           0            1           2            3  \\\nid                                                                      \n2046132  1534712400  300.820029  1599.480888  286.879214  1585.013202   \n2050810  1540760400  -86.209971    91.820888  -84.480786   110.333202   \n2070757  1540760400  -96.799971  -408.179112 -110.740786  -460.786798   \n\n                  4           5         6           7        8  ...  \\\nid                                                              ...   \n2046132  281.461754  1563.90821 -16.08618  654.013903 -6.78366  ...   \n2050810  -89.898246    89.22821 -16.08618  -65.076097 -6.78366  ...   \n2070757 -114.038246  -479.77179 -16.08618  -65.076097 -6.78366  ...   \n\n                243         244        245         246         247        248  \\\nid                                                                              \n2046132 -977.373846 -613.770792 -25.996269  -35.630448 -295.747724 -17.832889   \n2050810 -977.373846 -613.770792 -23.996269  190.369552 -286.747724 -25.832889   \n2070757 -925.373846 -561.770792 -21.996269  -37.630448 -151.747724 -24.832889   \n\n              249        250      251  252  \nid                                          \n2046132 -0.694428  -4.175933 -0.45614  0.0  \n2050810 -0.694428 -12.175933 -0.45614  0.0  \n2070757  0.305572 -12.175933 -0.45614  1.0  \n\n[3 rows x 249 columns]",
      "text/html": "<div>\n<style scoped>\n    .dataframe tbody tr th:only-of-type {\n        vertical-align: middle;\n    }\n\n    .dataframe tbody tr th {\n        vertical-align: top;\n    }\n\n    .dataframe thead th {\n        text-align: right;\n    }\n</style>\n<table border=\"1\" class=\"dataframe\">\n  <thead>\n    <tr style=\"text-align: right;\">\n      <th></th>\n      <th>buy_time</th>\n      <th>0</th>\n      <th>1</th>\n      <th>2</th>\n      <th>3</th>\n      <th>4</th>\n      <th>5</th>\n      <th>6</th>\n      <th>7</th>\n      <th>8</th>\n      <th>...</th>\n      <th>243</th>\n      <th>244</th>\n      <th>245</th>\n      <th>246</th>\n      <th>247</th>\n      <th>248</th>\n      <th>249</th>\n      <th>250</th>\n      <th>251</th>\n      <th>252</th>\n    </tr>\n    <tr>\n      <th>id</th>\n      <th></th>\n      <th></th>\n      <th></th>\n      <th></th>\n      <th></th>\n      <th></th>\n      <th></th>\n      <th></th>\n      <th></th>\n      <th></th>\n      <th></th>\n      <th></th>\n      <th></th>\n      <th></th>\n      <th></th>\n      <th></th>\n      <th></th>\n      <th></th>\n      <th></th>\n      <th></th>\n      <th></th>\n    </tr>\n  </thead>\n  <tbody>\n    <tr>\n      <th>2046132</th>\n      <td>1534712400</td>\n      <td>300.820029</td>\n      <td>1599.480888</td>\n      <td>286.879214</td>\n      <td>1585.013202</td>\n      <td>281.461754</td>\n      <td>1563.90821</td>\n      <td>-16.08618</td>\n      <td>654.013903</td>\n      <td>-6.78366</td>\n      <td>...</td>\n      <td>-977.373846</td>\n      <td>-613.770792</td>\n      <td>-25.996269</td>\n      <td>-35.630448</td>\n      <td>-295.747724</td>\n      <td>-17.832889</td>\n      <td>-0.694428</td>\n      <td>-4.175933</td>\n      <td>-0.45614</td>\n      <td>0.0</td>\n    </tr>\n    <tr>\n      <th>2050810</th>\n      <td>1540760400</td>\n      <td>-86.209971</td>\n      <td>91.820888</td>\n      <td>-84.480786</td>\n      <td>110.333202</td>\n      <td>-89.898246</td>\n      <td>89.22821</td>\n      <td>-16.08618</td>\n      <td>-65.076097</td>\n      <td>-6.78366</td>\n      <td>...</td>\n      <td>-977.373846</td>\n      <td>-613.770792</td>\n      <td>-23.996269</td>\n      <td>190.369552</td>\n      <td>-286.747724</td>\n      <td>-25.832889</td>\n      <td>-0.694428</td>\n      <td>-12.175933</td>\n      <td>-0.45614</td>\n      <td>0.0</td>\n    </tr>\n    <tr>\n      <th>2070757</th>\n      <td>1540760400</td>\n      <td>-96.799971</td>\n      <td>-408.179112</td>\n      <td>-110.740786</td>\n      <td>-460.786798</td>\n      <td>-114.038246</td>\n      <td>-479.77179</td>\n      <td>-16.08618</td>\n      <td>-65.076097</td>\n      <td>-6.78366</td>\n      <td>...</td>\n      <td>-925.373846</td>\n      <td>-561.770792</td>\n      <td>-21.996269</td>\n      <td>-37.630448</td>\n      <td>-151.747724</td>\n      <td>-24.832889</td>\n      <td>0.305572</td>\n      <td>-12.175933</td>\n      <td>-0.45614</td>\n      <td>1.0</td>\n    </tr>\n  </tbody>\n</table>\n<p>3 rows × 249 columns</p>\n</div>"
     },
     "execution_count": 59,
     "metadata": {},
     "output_type": "execute_result"
    }
   ],
   "source": [
    "features_new.head(3)"
   ],
   "metadata": {
    "collapsed": false,
    "pycharm": {
     "name": "#%%\n"
    }
   }
  },
  {
   "cell_type": "markdown",
   "source": [
    "#### Преобразование даты"
   ],
   "metadata": {
    "collapsed": false
   }
  },
  {
   "cell_type": "code",
   "execution_count": 62,
   "outputs": [],
   "source": [
    "import datetime"
   ],
   "metadata": {
    "collapsed": false,
    "pycharm": {
     "name": "#%%\n"
    }
   }
  },
  {
   "cell_type": "code",
   "execution_count": 64,
   "outputs": [
    {
     "data": {
      "text/plain": "datetime.datetime(2018, 8, 20, 0, 0)"
     },
     "execution_count": 64,
     "metadata": {},
     "output_type": "execute_result"
    }
   ],
   "source": [
    "datetime.datetime.fromtimestamp(1534712400)"
   ],
   "metadata": {
    "collapsed": false,
    "pycharm": {
     "name": "#%%\n"
    }
   }
  },
  {
   "cell_type": "code",
   "execution_count": 61,
   "outputs": [
    {
     "name": "stdout",
     "output_type": "stream",
     "text": [
      "<class 'pandas.core.frame.DataFrame'>\n",
      "Int64Index: 902389 entries, 2046132 to 3521152\n",
      "Columns: 249 entries, buy_time to 252\n",
      "dtypes: float64(248), int64(1)\n",
      "memory usage: 1.7 GB\n"
     ]
    }
   ],
   "source": [
    "features_new.info()"
   ],
   "metadata": {
    "collapsed": false,
    "pycharm": {
     "name": "#%%\n"
    }
   }
  },
  {
   "cell_type": "code",
   "execution_count": 65,
   "outputs": [
    {
     "data": {
      "text/plain": "id\n2046132   2018-08-19 21:00:00\n2050810   2018-10-28 21:00:00\n2070757   2018-10-28 21:00:00\n2071522   2018-12-16 21:00:00\n2075318   2018-08-05 21:00:00\n                  ...        \n3513869   2019-01-20 21:00:00\n3516552   2019-01-13 21:00:00\n3517434   2019-01-20 21:00:00\n3519714   2019-01-06 21:00:00\n3521152   2019-01-20 21:00:00\nName: buy_time, Length: 902389, dtype: datetime64[ns]"
     },
     "execution_count": 65,
     "metadata": {},
     "output_type": "execute_result"
    }
   ],
   "source": [
    "pd.to_datetime(features_new['buy_time'], unit='s')"
   ],
   "metadata": {
    "collapsed": false,
    "pycharm": {
     "name": "#%%\n"
    }
   }
  },
  {
   "cell_type": "code",
   "execution_count": 68,
   "outputs": [],
   "source": [
    "features_new['buy_time']=features_new['buy_time'].apply(lambda x: datetime.datetime.fromtimestamp(x))"
   ],
   "metadata": {
    "collapsed": false,
    "pycharm": {
     "name": "#%%\n"
    }
   }
  },
  {
   "cell_type": "code",
   "execution_count": 69,
   "outputs": [
    {
     "data": {
      "text/plain": "          buy_time           0            1           2            3  \\\nid                                                                     \n2046132 2018-08-20  300.820029  1599.480888  286.879214  1585.013202   \n2050810 2018-10-29  -86.209971    91.820888  -84.480786   110.333202   \n2070757 2018-10-29  -96.799971  -408.179112 -110.740786  -460.786798   \n\n                  4           5         6           7        8  ...  \\\nid                                                              ...   \n2046132  281.461754  1563.90821 -16.08618  654.013903 -6.78366  ...   \n2050810  -89.898246    89.22821 -16.08618  -65.076097 -6.78366  ...   \n2070757 -114.038246  -479.77179 -16.08618  -65.076097 -6.78366  ...   \n\n                243         244        245         246         247        248  \\\nid                                                                              \n2046132 -977.373846 -613.770792 -25.996269  -35.630448 -295.747724 -17.832889   \n2050810 -977.373846 -613.770792 -23.996269  190.369552 -286.747724 -25.832889   \n2070757 -925.373846 -561.770792 -21.996269  -37.630448 -151.747724 -24.832889   \n\n              249        250      251  252  \nid                                          \n2046132 -0.694428  -4.175933 -0.45614  0.0  \n2050810 -0.694428 -12.175933 -0.45614  0.0  \n2070757  0.305572 -12.175933 -0.45614  1.0  \n\n[3 rows x 249 columns]",
      "text/html": "<div>\n<style scoped>\n    .dataframe tbody tr th:only-of-type {\n        vertical-align: middle;\n    }\n\n    .dataframe tbody tr th {\n        vertical-align: top;\n    }\n\n    .dataframe thead th {\n        text-align: right;\n    }\n</style>\n<table border=\"1\" class=\"dataframe\">\n  <thead>\n    <tr style=\"text-align: right;\">\n      <th></th>\n      <th>buy_time</th>\n      <th>0</th>\n      <th>1</th>\n      <th>2</th>\n      <th>3</th>\n      <th>4</th>\n      <th>5</th>\n      <th>6</th>\n      <th>7</th>\n      <th>8</th>\n      <th>...</th>\n      <th>243</th>\n      <th>244</th>\n      <th>245</th>\n      <th>246</th>\n      <th>247</th>\n      <th>248</th>\n      <th>249</th>\n      <th>250</th>\n      <th>251</th>\n      <th>252</th>\n    </tr>\n    <tr>\n      <th>id</th>\n      <th></th>\n      <th></th>\n      <th></th>\n      <th></th>\n      <th></th>\n      <th></th>\n      <th></th>\n      <th></th>\n      <th></th>\n      <th></th>\n      <th></th>\n      <th></th>\n      <th></th>\n      <th></th>\n      <th></th>\n      <th></th>\n      <th></th>\n      <th></th>\n      <th></th>\n      <th></th>\n      <th></th>\n    </tr>\n  </thead>\n  <tbody>\n    <tr>\n      <th>2046132</th>\n      <td>2018-08-20</td>\n      <td>300.820029</td>\n      <td>1599.480888</td>\n      <td>286.879214</td>\n      <td>1585.013202</td>\n      <td>281.461754</td>\n      <td>1563.90821</td>\n      <td>-16.08618</td>\n      <td>654.013903</td>\n      <td>-6.78366</td>\n      <td>...</td>\n      <td>-977.373846</td>\n      <td>-613.770792</td>\n      <td>-25.996269</td>\n      <td>-35.630448</td>\n      <td>-295.747724</td>\n      <td>-17.832889</td>\n      <td>-0.694428</td>\n      <td>-4.175933</td>\n      <td>-0.45614</td>\n      <td>0.0</td>\n    </tr>\n    <tr>\n      <th>2050810</th>\n      <td>2018-10-29</td>\n      <td>-86.209971</td>\n      <td>91.820888</td>\n      <td>-84.480786</td>\n      <td>110.333202</td>\n      <td>-89.898246</td>\n      <td>89.22821</td>\n      <td>-16.08618</td>\n      <td>-65.076097</td>\n      <td>-6.78366</td>\n      <td>...</td>\n      <td>-977.373846</td>\n      <td>-613.770792</td>\n      <td>-23.996269</td>\n      <td>190.369552</td>\n      <td>-286.747724</td>\n      <td>-25.832889</td>\n      <td>-0.694428</td>\n      <td>-12.175933</td>\n      <td>-0.45614</td>\n      <td>0.0</td>\n    </tr>\n    <tr>\n      <th>2070757</th>\n      <td>2018-10-29</td>\n      <td>-96.799971</td>\n      <td>-408.179112</td>\n      <td>-110.740786</td>\n      <td>-460.786798</td>\n      <td>-114.038246</td>\n      <td>-479.77179</td>\n      <td>-16.08618</td>\n      <td>-65.076097</td>\n      <td>-6.78366</td>\n      <td>...</td>\n      <td>-925.373846</td>\n      <td>-561.770792</td>\n      <td>-21.996269</td>\n      <td>-37.630448</td>\n      <td>-151.747724</td>\n      <td>-24.832889</td>\n      <td>0.305572</td>\n      <td>-12.175933</td>\n      <td>-0.45614</td>\n      <td>1.0</td>\n    </tr>\n  </tbody>\n</table>\n<p>3 rows × 249 columns</p>\n</div>"
     },
     "execution_count": 69,
     "metadata": {},
     "output_type": "execute_result"
    }
   ],
   "source": [
    "features_new.head(3)"
   ],
   "metadata": {
    "collapsed": false,
    "pycharm": {
     "name": "#%%\n"
    }
   }
  },
  {
   "cell_type": "markdown",
   "source": [
    "Сохраним преобразованный датасет"
   ],
   "metadata": {
    "collapsed": false,
    "pycharm": {
     "name": "#%% md\n"
    }
   }
  },
  {
   "cell_type": "code",
   "execution_count": 71,
   "outputs": [],
   "source": [
    "features_new.to_parquet('features_drop.parquet')"
   ],
   "metadata": {
    "collapsed": false,
    "pycharm": {
     "name": "#%%\n"
    }
   }
  },
  {
   "cell_type": "markdown",
   "source": [
    "### Анализ данных"
   ],
   "metadata": {
    "collapsed": false,
    "pycharm": {
     "name": "#%% md\n"
    }
   }
  },
  {
   "cell_type": "code",
   "execution_count": 72,
   "outputs": [],
   "source": [
    "features_new = pd.read_parquet('features_drop.parquet')"
   ],
   "metadata": {
    "collapsed": false,
    "pycharm": {
     "name": "#%%\n"
    }
   }
  },
  {
   "cell_type": "code",
   "execution_count": 73,
   "outputs": [
    {
     "name": "stdout",
     "output_type": "stream",
     "text": [
      "<class 'pandas.core.frame.DataFrame'>\n",
      "Int64Index: 902389 entries, 2046132 to 3521152\n",
      "Columns: 249 entries, buy_time to 252\n",
      "dtypes: datetime64[ns](1), float64(248)\n",
      "memory usage: 1.7 GB\n"
     ]
    }
   ],
   "source": [
    "features_new.info()"
   ],
   "metadata": {
    "collapsed": false,
    "pycharm": {
     "name": "#%%\n"
    }
   }
  },
  {
   "cell_type": "code",
   "execution_count": 74,
   "outputs": [
    {
     "data": {
      "text/plain": "        count      mean         std          min         25%        50%  \\\n0    902389.0  0.045011  291.888648 -1151.889971  -96.799971 -84.969971   \n1    902389.0  0.083067  482.726654 -1594.119112 -209.479112 -60.729112   \n2    902389.0 -0.097768  298.669329 -2651.840786 -110.740786 -85.320786   \n3    902389.0  0.054796  546.362530 -1634.436798 -243.156798 -79.426798   \n4    902389.0 -0.168957  310.806921 -2657.258246 -116.158246 -87.868246   \n..        ...       ...         ...          ...         ...        ...   \n248  902389.0 -0.073602  260.509355   -25.832889  -25.832889 -23.832889   \n249  902389.0 -0.024798    8.620514    -0.694428   -0.694428  -0.694428   \n250  902389.0  0.055467  199.718875   -12.175933  -12.175933 -12.175933   \n251  902389.0 -0.000681   11.302048    -0.456140   -0.456140  -0.456140   \n252  902389.0  0.257663    2.071481     0.000000    0.000000   0.000000   \n\n            75%            max  \n0     11.690029  211730.720029  \n1    118.100888  212606.130888  \n2     27.199214  211716.779214  \n3    126.073202  213357.743202  \n4     28.721754  212095.261754  \n..          ...            ...  \n248  -10.832889  138539.167111  \n249   -0.694428    3865.305572  \n250   -9.175933  138552.824067  \n251   -0.456140    9489.543860  \n252    1.000000    1743.000000  \n\n[248 rows x 8 columns]",
      "text/html": "<div>\n<style scoped>\n    .dataframe tbody tr th:only-of-type {\n        vertical-align: middle;\n    }\n\n    .dataframe tbody tr th {\n        vertical-align: top;\n    }\n\n    .dataframe thead th {\n        text-align: right;\n    }\n</style>\n<table border=\"1\" class=\"dataframe\">\n  <thead>\n    <tr style=\"text-align: right;\">\n      <th></th>\n      <th>count</th>\n      <th>mean</th>\n      <th>std</th>\n      <th>min</th>\n      <th>25%</th>\n      <th>50%</th>\n      <th>75%</th>\n      <th>max</th>\n    </tr>\n  </thead>\n  <tbody>\n    <tr>\n      <th>0</th>\n      <td>902389.0</td>\n      <td>0.045011</td>\n      <td>291.888648</td>\n      <td>-1151.889971</td>\n      <td>-96.799971</td>\n      <td>-84.969971</td>\n      <td>11.690029</td>\n      <td>211730.720029</td>\n    </tr>\n    <tr>\n      <th>1</th>\n      <td>902389.0</td>\n      <td>0.083067</td>\n      <td>482.726654</td>\n      <td>-1594.119112</td>\n      <td>-209.479112</td>\n      <td>-60.729112</td>\n      <td>118.100888</td>\n      <td>212606.130888</td>\n    </tr>\n    <tr>\n      <th>2</th>\n      <td>902389.0</td>\n      <td>-0.097768</td>\n      <td>298.669329</td>\n      <td>-2651.840786</td>\n      <td>-110.740786</td>\n      <td>-85.320786</td>\n      <td>27.199214</td>\n      <td>211716.779214</td>\n    </tr>\n    <tr>\n      <th>3</th>\n      <td>902389.0</td>\n      <td>0.054796</td>\n      <td>546.362530</td>\n      <td>-1634.436798</td>\n      <td>-243.156798</td>\n      <td>-79.426798</td>\n      <td>126.073202</td>\n      <td>213357.743202</td>\n    </tr>\n    <tr>\n      <th>4</th>\n      <td>902389.0</td>\n      <td>-0.168957</td>\n      <td>310.806921</td>\n      <td>-2657.258246</td>\n      <td>-116.158246</td>\n      <td>-87.868246</td>\n      <td>28.721754</td>\n      <td>212095.261754</td>\n    </tr>\n    <tr>\n      <th>...</th>\n      <td>...</td>\n      <td>...</td>\n      <td>...</td>\n      <td>...</td>\n      <td>...</td>\n      <td>...</td>\n      <td>...</td>\n      <td>...</td>\n    </tr>\n    <tr>\n      <th>248</th>\n      <td>902389.0</td>\n      <td>-0.073602</td>\n      <td>260.509355</td>\n      <td>-25.832889</td>\n      <td>-25.832889</td>\n      <td>-23.832889</td>\n      <td>-10.832889</td>\n      <td>138539.167111</td>\n    </tr>\n    <tr>\n      <th>249</th>\n      <td>902389.0</td>\n      <td>-0.024798</td>\n      <td>8.620514</td>\n      <td>-0.694428</td>\n      <td>-0.694428</td>\n      <td>-0.694428</td>\n      <td>-0.694428</td>\n      <td>3865.305572</td>\n    </tr>\n    <tr>\n      <th>250</th>\n      <td>902389.0</td>\n      <td>0.055467</td>\n      <td>199.718875</td>\n      <td>-12.175933</td>\n      <td>-12.175933</td>\n      <td>-12.175933</td>\n      <td>-9.175933</td>\n      <td>138552.824067</td>\n    </tr>\n    <tr>\n      <th>251</th>\n      <td>902389.0</td>\n      <td>-0.000681</td>\n      <td>11.302048</td>\n      <td>-0.456140</td>\n      <td>-0.456140</td>\n      <td>-0.456140</td>\n      <td>-0.456140</td>\n      <td>9489.543860</td>\n    </tr>\n    <tr>\n      <th>252</th>\n      <td>902389.0</td>\n      <td>0.257663</td>\n      <td>2.071481</td>\n      <td>0.000000</td>\n      <td>0.000000</td>\n      <td>0.000000</td>\n      <td>1.000000</td>\n      <td>1743.000000</td>\n    </tr>\n  </tbody>\n</table>\n<p>248 rows × 8 columns</p>\n</div>"
     },
     "execution_count": 74,
     "metadata": {},
     "output_type": "execute_result"
    }
   ],
   "source": [
    "features_new.describe().T"
   ],
   "metadata": {
    "collapsed": false,
    "pycharm": {
     "name": "#%%\n"
    }
   }
  },
  {
   "cell_type": "code",
   "execution_count": 75,
   "outputs": [
    {
     "data": {
      "text/plain": "          buy_time           0            1           2            3  \\\nid                                                                     \n2046132 2018-08-20  300.820029  1599.480888  286.879214  1585.013202   \n2050810 2018-10-29  -86.209971    91.820888  -84.480786   110.333202   \n2070757 2018-10-29  -96.799971  -408.179112 -110.740786  -460.786798   \n2071522 2018-12-17  -94.939971  -363.699112 -108.880786  -411.226798   \n2075318 2018-08-06  -75.639971   669.690888  -89.580786   732.343202   \n\n                  4           5         6           7        8  ...  \\\nid                                                              ...   \n2046132  281.461754  1563.90821 -16.08618  654.013903 -6.78366  ...   \n2050810  -89.898246    89.22821 -16.08618  -65.076097 -6.78366  ...   \n2070757 -114.038246  -479.77179 -16.08618  -65.076097 -6.78366  ...   \n2071522 -114.298246  -432.33179 -16.08618  -65.076097 -6.78366  ...   \n2075318  -94.998246   736.65821 -16.08618  782.383903 -6.78366  ...   \n\n                243         244        245         246         247        248  \\\nid                                                                              \n2046132 -977.373846 -613.770792 -25.996269  -35.630448 -295.747724 -17.832889   \n2050810 -977.373846 -613.770792 -23.996269  190.369552 -286.747724 -25.832889   \n2070757 -925.373846 -561.770792 -21.996269  -37.630448 -151.747724 -24.832889   \n2071522 -977.373846 -613.770792 -25.996269  -37.630448 -306.747724 -25.832889   \n2075318 -501.373846 -242.770792 -25.996269  -37.630448 -167.747724 -14.832889   \n\n              249        250      251  252  \nid                                          \n2046132 -0.694428  -4.175933 -0.45614  0.0  \n2050810 -0.694428 -12.175933 -0.45614  0.0  \n2070757  0.305572 -12.175933 -0.45614  1.0  \n2071522 -0.694428 -12.175933 -0.45614  0.0  \n2075318  2.305572  -4.175933 -0.45614  0.0  \n\n[5 rows x 249 columns]",
      "text/html": "<div>\n<style scoped>\n    .dataframe tbody tr th:only-of-type {\n        vertical-align: middle;\n    }\n\n    .dataframe tbody tr th {\n        vertical-align: top;\n    }\n\n    .dataframe thead th {\n        text-align: right;\n    }\n</style>\n<table border=\"1\" class=\"dataframe\">\n  <thead>\n    <tr style=\"text-align: right;\">\n      <th></th>\n      <th>buy_time</th>\n      <th>0</th>\n      <th>1</th>\n      <th>2</th>\n      <th>3</th>\n      <th>4</th>\n      <th>5</th>\n      <th>6</th>\n      <th>7</th>\n      <th>8</th>\n      <th>...</th>\n      <th>243</th>\n      <th>244</th>\n      <th>245</th>\n      <th>246</th>\n      <th>247</th>\n      <th>248</th>\n      <th>249</th>\n      <th>250</th>\n      <th>251</th>\n      <th>252</th>\n    </tr>\n    <tr>\n      <th>id</th>\n      <th></th>\n      <th></th>\n      <th></th>\n      <th></th>\n      <th></th>\n      <th></th>\n      <th></th>\n      <th></th>\n      <th></th>\n      <th></th>\n      <th></th>\n      <th></th>\n      <th></th>\n      <th></th>\n      <th></th>\n      <th></th>\n      <th></th>\n      <th></th>\n      <th></th>\n      <th></th>\n      <th></th>\n    </tr>\n  </thead>\n  <tbody>\n    <tr>\n      <th>2046132</th>\n      <td>2018-08-20</td>\n      <td>300.820029</td>\n      <td>1599.480888</td>\n      <td>286.879214</td>\n      <td>1585.013202</td>\n      <td>281.461754</td>\n      <td>1563.90821</td>\n      <td>-16.08618</td>\n      <td>654.013903</td>\n      <td>-6.78366</td>\n      <td>...</td>\n      <td>-977.373846</td>\n      <td>-613.770792</td>\n      <td>-25.996269</td>\n      <td>-35.630448</td>\n      <td>-295.747724</td>\n      <td>-17.832889</td>\n      <td>-0.694428</td>\n      <td>-4.175933</td>\n      <td>-0.45614</td>\n      <td>0.0</td>\n    </tr>\n    <tr>\n      <th>2050810</th>\n      <td>2018-10-29</td>\n      <td>-86.209971</td>\n      <td>91.820888</td>\n      <td>-84.480786</td>\n      <td>110.333202</td>\n      <td>-89.898246</td>\n      <td>89.22821</td>\n      <td>-16.08618</td>\n      <td>-65.076097</td>\n      <td>-6.78366</td>\n      <td>...</td>\n      <td>-977.373846</td>\n      <td>-613.770792</td>\n      <td>-23.996269</td>\n      <td>190.369552</td>\n      <td>-286.747724</td>\n      <td>-25.832889</td>\n      <td>-0.694428</td>\n      <td>-12.175933</td>\n      <td>-0.45614</td>\n      <td>0.0</td>\n    </tr>\n    <tr>\n      <th>2070757</th>\n      <td>2018-10-29</td>\n      <td>-96.799971</td>\n      <td>-408.179112</td>\n      <td>-110.740786</td>\n      <td>-460.786798</td>\n      <td>-114.038246</td>\n      <td>-479.77179</td>\n      <td>-16.08618</td>\n      <td>-65.076097</td>\n      <td>-6.78366</td>\n      <td>...</td>\n      <td>-925.373846</td>\n      <td>-561.770792</td>\n      <td>-21.996269</td>\n      <td>-37.630448</td>\n      <td>-151.747724</td>\n      <td>-24.832889</td>\n      <td>0.305572</td>\n      <td>-12.175933</td>\n      <td>-0.45614</td>\n      <td>1.0</td>\n    </tr>\n    <tr>\n      <th>2071522</th>\n      <td>2018-12-17</td>\n      <td>-94.939971</td>\n      <td>-363.699112</td>\n      <td>-108.880786</td>\n      <td>-411.226798</td>\n      <td>-114.298246</td>\n      <td>-432.33179</td>\n      <td>-16.08618</td>\n      <td>-65.076097</td>\n      <td>-6.78366</td>\n      <td>...</td>\n      <td>-977.373846</td>\n      <td>-613.770792</td>\n      <td>-25.996269</td>\n      <td>-37.630448</td>\n      <td>-306.747724</td>\n      <td>-25.832889</td>\n      <td>-0.694428</td>\n      <td>-12.175933</td>\n      <td>-0.45614</td>\n      <td>0.0</td>\n    </tr>\n    <tr>\n      <th>2075318</th>\n      <td>2018-08-06</td>\n      <td>-75.639971</td>\n      <td>669.690888</td>\n      <td>-89.580786</td>\n      <td>732.343202</td>\n      <td>-94.998246</td>\n      <td>736.65821</td>\n      <td>-16.08618</td>\n      <td>782.383903</td>\n      <td>-6.78366</td>\n      <td>...</td>\n      <td>-501.373846</td>\n      <td>-242.770792</td>\n      <td>-25.996269</td>\n      <td>-37.630448</td>\n      <td>-167.747724</td>\n      <td>-14.832889</td>\n      <td>2.305572</td>\n      <td>-4.175933</td>\n      <td>-0.45614</td>\n      <td>0.0</td>\n    </tr>\n  </tbody>\n</table>\n<p>5 rows × 249 columns</p>\n</div>"
     },
     "execution_count": 75,
     "metadata": {},
     "output_type": "execute_result"
    }
   ],
   "source": [
    "features_new.head()"
   ],
   "metadata": {
    "collapsed": false,
    "pycharm": {
     "name": "#%%\n"
    }
   }
  },
  {
   "cell_type": "code",
   "execution_count": 76,
   "outputs": [],
   "source": [
    "\n",
    "# первый взгляд на параметр\n",
    "def first_look(Series1, max_count=0, bins=10, quan=0.99, is_correct_outlier=False, is_show_stat=False):\n",
    "    Series = Series1.copy()\n",
    "    # простая корректировка по выбросам\n",
    "    if is_correct_outlier:\n",
    "        Series.drop(Series[Series > Series.quantile(q=quan)].index, inplace=True)\n",
    "    # расчет основных значений\n",
    "    Series_mean = round(Series.mean(), 2)\n",
    "    Series_median = Series.median()\n",
    "    Series_name = Series.name\n",
    "    # расчет максимального выброса\n",
    "    max_count = np.histogram(Series, bins=bins)[0].max()\n",
    "\n",
    "    plt.figure(figsize=(16, 8))\n",
    "    Series.hist(bins=bins)\n",
    "    plt.ylabel('Count')\n",
    "    plt.xlabel(Series_name)\n",
    "    # отображение среднего и медианы\n",
    "    y = np.linspace(0, max_count, bins)\n",
    "    plt.plot([Series_mean] * bins, y, label='mean  : {:,.2f}'.format(Series_mean), linewidth=4)\n",
    "    plt.plot([Series_median] * bins, y, label='median: {:,.2f}'.format(Series_median), linewidth=4)\n",
    "    plt.legend()\n",
    "    plt.title(Series_name + ' distribution')\n",
    "    plt.show()\n",
    "    if is_show_stat:\n",
    "        print(Series.describe())"
   ],
   "metadata": {
    "collapsed": false,
    "pycharm": {
     "name": "#%%\n"
    }
   }
  },
  {
   "cell_type": "markdown",
   "source": [
    "#### Распределение классов"
   ],
   "metadata": {
    "collapsed": false,
    "pycharm": {
     "name": "#%% md\n"
    }
   }
  },
  {
   "cell_type": "code",
   "execution_count": 107,
   "outputs": [
    {
     "data": {
      "text/plain": "   Unnamed: 0       id  vas_id    buy_time  target\n0           0   540968     8.0  1537131600     0.0\n1           1  1454121     4.0  1531688400     0.0\n2           2  2458816     1.0  1534107600     0.0",
      "text/html": "<div>\n<style scoped>\n    .dataframe tbody tr th:only-of-type {\n        vertical-align: middle;\n    }\n\n    .dataframe tbody tr th {\n        vertical-align: top;\n    }\n\n    .dataframe thead th {\n        text-align: right;\n    }\n</style>\n<table border=\"1\" class=\"dataframe\">\n  <thead>\n    <tr style=\"text-align: right;\">\n      <th></th>\n      <th>Unnamed: 0</th>\n      <th>id</th>\n      <th>vas_id</th>\n      <th>buy_time</th>\n      <th>target</th>\n    </tr>\n  </thead>\n  <tbody>\n    <tr>\n      <th>0</th>\n      <td>0</td>\n      <td>540968</td>\n      <td>8.0</td>\n      <td>1537131600</td>\n      <td>0.0</td>\n    </tr>\n    <tr>\n      <th>1</th>\n      <td>1</td>\n      <td>1454121</td>\n      <td>4.0</td>\n      <td>1531688400</td>\n      <td>0.0</td>\n    </tr>\n    <tr>\n      <th>2</th>\n      <td>2</td>\n      <td>2458816</td>\n      <td>1.0</td>\n      <td>1534107600</td>\n      <td>0.0</td>\n    </tr>\n  </tbody>\n</table>\n</div>"
     },
     "execution_count": 107,
     "metadata": {},
     "output_type": "execute_result"
    }
   ],
   "source": [
    "data_train = pd.read_csv('data_train.csv')\n",
    "data_train.head(3)"
   ],
   "metadata": {
    "collapsed": false,
    "pycharm": {
     "name": "#%%\n"
    }
   }
  },
  {
   "cell_type": "code",
   "execution_count": 108,
   "outputs": [
    {
     "data": {
      "text/plain": "Index(['Unnamed: 0', 'id', 'vas_id', 'buy_time', 'target'], dtype='object')"
     },
     "execution_count": 108,
     "metadata": {},
     "output_type": "execute_result"
    }
   ],
   "source": [
    "data_train.columns"
   ],
   "metadata": {
    "collapsed": false,
    "pycharm": {
     "name": "#%%\n"
    }
   }
  },
  {
   "cell_type": "code",
   "execution_count": 109,
   "outputs": [],
   "source": [
    "data_train.drop(columns=['Unnamed: 0'],inplace=True)"
   ],
   "metadata": {
    "collapsed": false,
    "pycharm": {
     "name": "#%%\n"
    }
   }
  },
  {
   "cell_type": "code",
   "execution_count": 110,
   "outputs": [
    {
     "data": {
      "text/plain": "         vas_id   buy_time  target\nid                                \n540968      8.0 2018-09-17     0.0\n1454121     4.0 2018-07-16     0.0\n2458816     1.0 2018-08-13     0.0",
      "text/html": "<div>\n<style scoped>\n    .dataframe tbody tr th:only-of-type {\n        vertical-align: middle;\n    }\n\n    .dataframe tbody tr th {\n        vertical-align: top;\n    }\n\n    .dataframe thead th {\n        text-align: right;\n    }\n</style>\n<table border=\"1\" class=\"dataframe\">\n  <thead>\n    <tr style=\"text-align: right;\">\n      <th></th>\n      <th>vas_id</th>\n      <th>buy_time</th>\n      <th>target</th>\n    </tr>\n    <tr>\n      <th>id</th>\n      <th></th>\n      <th></th>\n      <th></th>\n    </tr>\n  </thead>\n  <tbody>\n    <tr>\n      <th>540968</th>\n      <td>8.0</td>\n      <td>2018-09-17</td>\n      <td>0.0</td>\n    </tr>\n    <tr>\n      <th>1454121</th>\n      <td>4.0</td>\n      <td>2018-07-16</td>\n      <td>0.0</td>\n    </tr>\n    <tr>\n      <th>2458816</th>\n      <td>1.0</td>\n      <td>2018-08-13</td>\n      <td>0.0</td>\n    </tr>\n  </tbody>\n</table>\n</div>"
     },
     "execution_count": 110,
     "metadata": {},
     "output_type": "execute_result"
    }
   ],
   "source": [
    "data_train.set_index('id',inplace=True)\n",
    "data_train['buy_time']=data_train['buy_time'].apply(lambda x: datetime.datetime.fromtimestamp(x))\n",
    "data_train.head(3)"
   ],
   "metadata": {
    "collapsed": false,
    "pycharm": {
     "name": "#%%\n"
    }
   }
  },
  {
   "cell_type": "code",
   "execution_count": 111,
   "outputs": [
    {
     "data": {
      "text/plain": "(831653, 3)"
     },
     "execution_count": 111,
     "metadata": {},
     "output_type": "execute_result"
    }
   ],
   "source": [
    "data_train.shape"
   ],
   "metadata": {
    "collapsed": false,
    "pycharm": {
     "name": "#%%\n"
    }
   }
  },
  {
   "cell_type": "code",
   "execution_count": 95,
   "outputs": [],
   "source": [
    "def target_distribution(target):\n",
    "    (target.value_counts()/target.shape[0]).plot(kind='bar', title='Распределение целевой переменной')\n",
    "    print(target.value_counts()/target.shape)"
   ],
   "metadata": {
    "collapsed": false,
    "pycharm": {
     "name": "#%%\n"
    }
   }
  },
  {
   "cell_type": "code",
   "execution_count": 96,
   "outputs": [
    {
     "name": "stdout",
     "output_type": "stream",
     "text": [
      "0.0    0.927631\n",
      "1.0    0.072369\n",
      "Name: target, dtype: float64\n"
     ]
    },
    {
     "data": {
      "text/plain": "<Figure size 432x288 with 1 Axes>",
      "image/png": "[encoded data removed]"
     },
     "metadata": {
      "needs_background": "light"
     },
     "output_type": "display_data"
    }
   ],
   "source": [
    "target_distribution(data_train['target'])"
   ],
   "metadata": {
    "collapsed": false,
    "pycharm": {
     "name": "#%%\n"
    }
   }
  },
  {
   "cell_type": "markdown",
   "source": [
    ">Определили большой дисбаланс классов"
   ],
   "metadata": {
    "collapsed": false,
    "pycharm": {
     "name": "#%% md\n"
    }
   }
  },
  {
   "cell_type": "markdown",
   "source": [
    "#### 1 переменная"
   ],
   "metadata": {
    "collapsed": false,
    "pycharm": {
     "name": "#%% md\n"
    }
   }
  },
  {
   "cell_type": "code",
   "execution_count": 77,
   "outputs": [
    {
     "data": {
      "text/plain": "<Figure size 1152x576 with 1 Axes>",
      "image/png": "[encoded data removed]"
     },
     "metadata": {
      "needs_background": "light"
     },
     "output_type": "display_data"
    },
    {
     "name": "stdout",
     "output_type": "stream",
     "text": [
      "count    902389.000000\n",
      "mean          0.045011\n",
      "std         291.888648\n",
      "min       -1151.889971\n",
      "25%         -96.799971\n",
      "50%         -84.969971\n",
      "75%          11.690029\n",
      "max      211730.720029\n",
      "Name: 0, dtype: float64\n"
     ]
    }
   ],
   "source": [
    "first_look(features_new['0'], bins=20, is_show_stat=True)"
   ],
   "metadata": {
    "collapsed": false,
    "pycharm": {
     "name": "#%%\n"
    }
   }
  },
  {
   "cell_type": "markdown",
   "source": [
    "> переменная имеет значительный выброс, посмотрим на 99 квантиль"
   ],
   "metadata": {
    "collapsed": false,
    "pycharm": {
     "name": "#%% md\n"
    }
   }
  },
  {
   "cell_type": "code",
   "execution_count": 78,
   "outputs": [
    {
     "data": {
      "text/plain": "<Figure size 1152x576 with 1 Axes>",
      "image/png": "[encoded data removed]"
     },
     "metadata": {
      "needs_background": "light"
     },
     "output_type": "display_data"
    },
    {
     "name": "stdout",
     "output_type": "stream",
     "text": [
      "count    892930.000000\n",
      "mean        -10.788923\n",
      "std         144.413331\n",
      "min       -1151.889971\n",
      "25%         -96.799971\n",
      "50%         -86.119971\n",
      "75%           7.000029\n",
      "max         690.030029\n",
      "Name: 0, dtype: float64\n"
     ]
    }
   ],
   "source": [
    "first_look(features_new['0'], bins=20, is_show_stat=True, quan=0.99, is_correct_outlier=True)"
   ],
   "metadata": {
    "collapsed": false,
    "pycharm": {
     "name": "#%%\n"
    }
   }
  },
  {
   "cell_type": "markdown",
   "source": [
    "> 10 тыс записей значительно откорректировали распределение переменной"
   ],
   "metadata": {
    "collapsed": false,
    "pycharm": {
     "name": "#%% md\n"
    }
   }
  },
  {
   "cell_type": "code",
   "execution_count": null,
   "outputs": [],
   "source": [
    "features_new[features_new['0']>20000]"
   ],
   "metadata": {
    "collapsed": false,
    "pycharm": {
     "name": "#%%\n"
    }
   }
  },
  {
   "cell_type": "code",
   "execution_count": 42,
   "outputs": [
    {
     "data": {
      "text/plain": "1598.1200292253036"
     },
     "execution_count": 42,
     "metadata": {},
     "output_type": "execute_result"
    }
   ],
   "source": [
    "features_new['0'].quantile(q=0.999)"
   ],
   "metadata": {
    "collapsed": false,
    "pycharm": {
     "name": "#%%\n"
    }
   }
  },
  {
   "cell_type": "markdown",
   "source": [
    "#### 2 переменная"
   ],
   "metadata": {
    "collapsed": false,
    "pycharm": {
     "name": "#%% md\n"
    }
   }
  },
  {
   "cell_type": "code",
   "execution_count": 97,
   "outputs": [
    {
     "data": {
      "text/plain": "<Figure size 1152x576 with 1 Axes>",
      "image/png": "[encoded data removed]"
     },
     "metadata": {
      "needs_background": "light"
     },
     "output_type": "display_data"
    },
    {
     "name": "stdout",
     "output_type": "stream",
     "text": [
      "count    902389.000000\n",
      "mean         -0.097768\n",
      "std         298.669329\n",
      "min       -2651.840786\n",
      "25%        -110.740786\n",
      "50%         -85.320786\n",
      "75%          27.199214\n",
      "max      211716.779214\n",
      "Name: 2, dtype: float64\n"
     ]
    }
   ],
   "source": [
    "first_look(features_new['2'], bins=20, is_show_stat=True)"
   ],
   "metadata": {
    "collapsed": false,
    "pycharm": {
     "name": "#%%\n"
    }
   }
  },
  {
   "cell_type": "code",
   "execution_count": 98,
   "outputs": [
    {
     "data": {
      "text/plain": "<Figure size 1152x576 with 1 Axes>",
      "image/png": "[encoded data removed]"
     },
     "metadata": {
      "needs_background": "light"
     },
     "output_type": "display_data"
    },
    {
     "name": "stdout",
     "output_type": "stream",
     "text": [
      "count    902389.000000\n",
      "mean          0.054796\n",
      "std         546.362530\n",
      "min       -1634.436798\n",
      "25%        -243.156798\n",
      "50%         -79.426798\n",
      "75%         126.073202\n",
      "max      213357.743202\n",
      "Name: 3, dtype: float64\n"
     ]
    }
   ],
   "source": [
    "first_look(features_new['3'], bins=20, is_show_stat=True)"
   ],
   "metadata": {
    "collapsed": false,
    "pycharm": {
     "name": "#%%\n"
    }
   }
  },
  {
   "cell_type": "markdown",
   "source": [
    "### Соединение наборов данных"
   ],
   "metadata": {
    "collapsed": false,
    "pycharm": {
     "name": "#%% md\n"
    }
   }
  },
  {
   "cell_type": "markdown",
   "source": [
    "Проверим повторы смены профиля на одного пользователя"
   ],
   "metadata": {
    "collapsed": false,
    "pycharm": {
     "name": "#%% md\n"
    }
   }
  },
  {
   "cell_type": "code",
   "execution_count": 103,
   "outputs": [
    {
     "data": {
      "text/plain": "3549398    2\n3353035    2\n2926704    2\nName: id, dtype: int64"
     },
     "execution_count": 103,
     "metadata": {},
     "output_type": "execute_result"
    }
   ],
   "source": [
    "features_new.index.value_counts().sort_values(ascending=False).head(3)"
   ],
   "metadata": {
    "collapsed": false,
    "pycharm": {
     "name": "#%%\n"
    }
   }
  },
  {
   "cell_type": "markdown",
   "source": [
    "Проверим частоты приобретения услуг одним клиентом"
   ],
   "metadata": {
    "collapsed": false,
    "pycharm": {
     "name": "#%% md\n"
    }
   }
  },
  {
   "cell_type": "code",
   "execution_count": 104,
   "outputs": [
    {
     "data": {
      "text/plain": "1347260    3\n17679      3\n340716     3\nName: id, dtype: int64"
     },
     "execution_count": 104,
     "metadata": {},
     "output_type": "execute_result"
    }
   ],
   "source": [
    "data_train.index.value_counts().sort_values(ascending=False).head(3)"
   ],
   "metadata": {
    "collapsed": false,
    "pycharm": {
     "name": "#%%\n"
    }
   }
  },
  {
   "cell_type": "code",
   "execution_count": 112,
   "outputs": [
    {
     "data": {
      "text/plain": "         vas_id   buy_time  target\nid                                \n540968      8.0 2018-09-17     0.0\n1454121     4.0 2018-07-16     0.0\n2458816     1.0 2018-08-13     0.0",
      "text/html": "<div>\n<style scoped>\n    .dataframe tbody tr th:only-of-type {\n        vertical-align: middle;\n    }\n\n    .dataframe tbody tr th {\n        vertical-align: top;\n    }\n\n    .dataframe thead th {\n        text-align: right;\n    }\n</style>\n<table border=\"1\" class=\"dataframe\">\n  <thead>\n    <tr style=\"text-align: right;\">\n      <th></th>\n      <th>vas_id</th>\n      <th>buy_time</th>\n      <th>target</th>\n    </tr>\n    <tr>\n      <th>id</th>\n      <th></th>\n      <th></th>\n      <th></th>\n    </tr>\n  </thead>\n  <tbody>\n    <tr>\n      <th>540968</th>\n      <td>8.0</td>\n      <td>2018-09-17</td>\n      <td>0.0</td>\n    </tr>\n    <tr>\n      <th>1454121</th>\n      <td>4.0</td>\n      <td>2018-07-16</td>\n      <td>0.0</td>\n    </tr>\n    <tr>\n      <th>2458816</th>\n      <td>1.0</td>\n      <td>2018-08-13</td>\n      <td>0.0</td>\n    </tr>\n  </tbody>\n</table>\n</div>"
     },
     "execution_count": 112,
     "metadata": {},
     "output_type": "execute_result"
    }
   ],
   "source": [
    "data_train.head(3)"
   ],
   "metadata": {
    "collapsed": false,
    "pycharm": {
     "name": "#%%\n"
    }
   }
  },
  {
   "cell_type": "code",
   "execution_count": 113,
   "outputs": [
    {
     "data": {
      "text/plain": "          buy_time           0            1           2            3  \\\nid                                                                     \n2046132 2018-08-20  300.820029  1599.480888  286.879214  1585.013202   \n2050810 2018-10-29  -86.209971    91.820888  -84.480786   110.333202   \n2070757 2018-10-29  -96.799971  -408.179112 -110.740786  -460.786798   \n\n                  4           5         6           7        8  ...  \\\nid                                                              ...   \n2046132  281.461754  1563.90821 -16.08618  654.013903 -6.78366  ...   \n2050810  -89.898246    89.22821 -16.08618  -65.076097 -6.78366  ...   \n2070757 -114.038246  -479.77179 -16.08618  -65.076097 -6.78366  ...   \n\n                243         244        245         246         247        248  \\\nid                                                                              \n2046132 -977.373846 -613.770792 -25.996269  -35.630448 -295.747724 -17.832889   \n2050810 -977.373846 -613.770792 -23.996269  190.369552 -286.747724 -25.832889   \n2070757 -925.373846 -561.770792 -21.996269  -37.630448 -151.747724 -24.832889   \n\n              249        250      251  252  \nid                                          \n2046132 -0.694428  -4.175933 -0.45614  0.0  \n2050810 -0.694428 -12.175933 -0.45614  0.0  \n2070757  0.305572 -12.175933 -0.45614  1.0  \n\n[3 rows x 249 columns]",
      "text/html": "<div>\n<style scoped>\n    .dataframe tbody tr th:only-of-type {\n        vertical-align: middle;\n    }\n\n    .dataframe tbody tr th {\n        vertical-align: top;\n    }\n\n    .dataframe thead th {\n        text-align: right;\n    }\n</style>\n<table border=\"1\" class=\"dataframe\">\n  <thead>\n    <tr style=\"text-align: right;\">\n      <th></th>\n      <th>buy_time</th>\n      <th>0</th>\n      <th>1</th>\n      <th>2</th>\n      <th>3</th>\n      <th>4</th>\n      <th>5</th>\n      <th>6</th>\n      <th>7</th>\n      <th>8</th>\n      <th>...</th>\n      <th>243</th>\n      <th>244</th>\n      <th>245</th>\n      <th>246</th>\n      <th>247</th>\n      <th>248</th>\n      <th>249</th>\n      <th>250</th>\n      <th>251</th>\n      <th>252</th>\n    </tr>\n    <tr>\n      <th>id</th>\n      <th></th>\n      <th></th>\n      <th></th>\n      <th></th>\n      <th></th>\n      <th></th>\n      <th></th>\n      <th></th>\n      <th></th>\n      <th></th>\n      <th></th>\n      <th></th>\n      <th></th>\n      <th></th>\n      <th></th>\n      <th></th>\n      <th></th>\n      <th></th>\n      <th></th>\n      <th></th>\n      <th></th>\n    </tr>\n  </thead>\n  <tbody>\n    <tr>\n      <th>2046132</th>\n      <td>2018-08-20</td>\n      <td>300.820029</td>\n      <td>1599.480888</td>\n      <td>286.879214</td>\n      <td>1585.013202</td>\n      <td>281.461754</td>\n      <td>1563.90821</td>\n      <td>-16.08618</td>\n      <td>654.013903</td>\n      <td>-6.78366</td>\n      <td>...</td>\n      <td>-977.373846</td>\n      <td>-613.770792</td>\n      <td>-25.996269</td>\n      <td>-35.630448</td>\n      <td>-295.747724</td>\n      <td>-17.832889</td>\n      <td>-0.694428</td>\n      <td>-4.175933</td>\n      <td>-0.45614</td>\n      <td>0.0</td>\n    </tr>\n    <tr>\n      <th>2050810</th>\n      <td>2018-10-29</td>\n      <td>-86.209971</td>\n      <td>91.820888</td>\n      <td>-84.480786</td>\n      <td>110.333202</td>\n      <td>-89.898246</td>\n      <td>89.22821</td>\n      <td>-16.08618</td>\n      <td>-65.076097</td>\n      <td>-6.78366</td>\n      <td>...</td>\n      <td>-977.373846</td>\n      <td>-613.770792</td>\n      <td>-23.996269</td>\n      <td>190.369552</td>\n      <td>-286.747724</td>\n      <td>-25.832889</td>\n      <td>-0.694428</td>\n      <td>-12.175933</td>\n      <td>-0.45614</td>\n      <td>0.0</td>\n    </tr>\n    <tr>\n      <th>2070757</th>\n      <td>2018-10-29</td>\n      <td>-96.799971</td>\n      <td>-408.179112</td>\n      <td>-110.740786</td>\n      <td>-460.786798</td>\n      <td>-114.038246</td>\n      <td>-479.77179</td>\n      <td>-16.08618</td>\n      <td>-65.076097</td>\n      <td>-6.78366</td>\n      <td>...</td>\n      <td>-925.373846</td>\n      <td>-561.770792</td>\n      <td>-21.996269</td>\n      <td>-37.630448</td>\n      <td>-151.747724</td>\n      <td>-24.832889</td>\n      <td>0.305572</td>\n      <td>-12.175933</td>\n      <td>-0.45614</td>\n      <td>1.0</td>\n    </tr>\n  </tbody>\n</table>\n<p>3 rows × 249 columns</p>\n</div>"
     },
     "execution_count": 113,
     "metadata": {},
     "output_type": "execute_result"
    }
   ],
   "source": [
    "features_new.head(3)"
   ],
   "metadata": {
    "collapsed": false,
    "pycharm": {
     "name": "#%%\n"
    }
   }
  },
  {
   "cell_type": "code",
   "execution_count": 115,
   "outputs": [
    {
     "data": {
      "text/plain": "         buy_time          0           1           2           3           4  \\\nid                                                                             \n340716 2018-07-23 -96.799971 -408.179112 -110.740786 -460.786798 -116.158246   \n\n                5         6          7        8  ...         243         244  \\\nid                                               ...                           \n340716 -481.89179 -16.08618 -65.076097 -6.78366  ... -976.373846 -612.770792   \n\n              245        246         247        248       249        250  \\\nid                                                                         \n340716 -25.996269 -37.630448 -282.747724 -25.832889 -0.694428 -12.175933   \n\n            251  252  \nid                    \n340716 -0.45614  0.0  \n\n[1 rows x 249 columns]",
      "text/html": "<div>\n<style scoped>\n    .dataframe tbody tr th:only-of-type {\n        vertical-align: middle;\n    }\n\n    .dataframe tbody tr th {\n        vertical-align: top;\n    }\n\n    .dataframe thead th {\n        text-align: right;\n    }\n</style>\n<table border=\"1\" class=\"dataframe\">\n  <thead>\n    <tr style=\"text-align: right;\">\n      <th></th>\n      <th>buy_time</th>\n      <th>0</th>\n      <th>1</th>\n      <th>2</th>\n      <th>3</th>\n      <th>4</th>\n      <th>5</th>\n      <th>6</th>\n      <th>7</th>\n      <th>8</th>\n      <th>...</th>\n      <th>243</th>\n      <th>244</th>\n      <th>245</th>\n      <th>246</th>\n      <th>247</th>\n      <th>248</th>\n      <th>249</th>\n      <th>250</th>\n      <th>251</th>\n      <th>252</th>\n    </tr>\n    <tr>\n      <th>id</th>\n      <th></th>\n      <th></th>\n      <th></th>\n      <th></th>\n      <th></th>\n      <th></th>\n      <th></th>\n      <th></th>\n      <th></th>\n      <th></th>\n      <th></th>\n      <th></th>\n      <th></th>\n      <th></th>\n      <th></th>\n      <th></th>\n      <th></th>\n      <th></th>\n      <th></th>\n      <th></th>\n      <th></th>\n    </tr>\n  </thead>\n  <tbody>\n    <tr>\n      <th>340716</th>\n      <td>2018-07-23</td>\n      <td>-96.799971</td>\n      <td>-408.179112</td>\n      <td>-110.740786</td>\n      <td>-460.786798</td>\n      <td>-116.158246</td>\n      <td>-481.89179</td>\n      <td>-16.08618</td>\n      <td>-65.076097</td>\n      <td>-6.78366</td>\n      <td>...</td>\n      <td>-976.373846</td>\n      <td>-612.770792</td>\n      <td>-25.996269</td>\n      <td>-37.630448</td>\n      <td>-282.747724</td>\n      <td>-25.832889</td>\n      <td>-0.694428</td>\n      <td>-12.175933</td>\n      <td>-0.45614</td>\n      <td>0.0</td>\n    </tr>\n  </tbody>\n</table>\n<p>1 rows × 249 columns</p>\n</div>"
     },
     "execution_count": 115,
     "metadata": {},
     "output_type": "execute_result"
    }
   ],
   "source": [
    "features_new[features_new.index == 340716]"
   ],
   "metadata": {
    "collapsed": false,
    "pycharm": {
     "name": "#%%\n"
    }
   }
  },
  {
   "cell_type": "code",
   "execution_count": 116,
   "outputs": [
    {
     "data": {
      "text/plain": "        vas_id   buy_time  target\nid                               \n340716     2.0 2018-11-05     0.0\n340716     4.0 2018-11-19     1.0\n340716     6.0 2018-11-19     1.0",
      "text/html": "<div>\n<style scoped>\n    .dataframe tbody tr th:only-of-type {\n        vertical-align: middle;\n    }\n\n    .dataframe tbody tr th {\n        vertical-align: top;\n    }\n\n    .dataframe thead th {\n        text-align: right;\n    }\n</style>\n<table border=\"1\" class=\"dataframe\">\n  <thead>\n    <tr style=\"text-align: right;\">\n      <th></th>\n      <th>vas_id</th>\n      <th>buy_time</th>\n      <th>target</th>\n    </tr>\n    <tr>\n      <th>id</th>\n      <th></th>\n      <th></th>\n      <th></th>\n    </tr>\n  </thead>\n  <tbody>\n    <tr>\n      <th>340716</th>\n      <td>2.0</td>\n      <td>2018-11-05</td>\n      <td>0.0</td>\n    </tr>\n    <tr>\n      <th>340716</th>\n      <td>4.0</td>\n      <td>2018-11-19</td>\n      <td>1.0</td>\n    </tr>\n    <tr>\n      <th>340716</th>\n      <td>6.0</td>\n      <td>2018-11-19</td>\n      <td>1.0</td>\n    </tr>\n  </tbody>\n</table>\n</div>"
     },
     "execution_count": 116,
     "metadata": {},
     "output_type": "execute_result"
    }
   ],
   "source": [
    "data_train[data_train.index == 340716]"
   ],
   "metadata": {
    "collapsed": false,
    "pycharm": {
     "name": "#%%\n"
    }
   }
  },
  {
   "cell_type": "code",
   "execution_count": 132,
   "outputs": [
    {
     "data": {
      "text/plain": "          buy_time           1           2           3\nid                                                    \n3549398 2018-12-10  588.840888  426.489214  565.063202\n3549398 2018-12-17  727.590888  185.129214  708.903202",
      "text/html": "<div>\n<style scoped>\n    .dataframe tbody tr th:only-of-type {\n        vertical-align: middle;\n    }\n\n    .dataframe tbody tr th {\n        vertical-align: top;\n    }\n\n    .dataframe thead th {\n        text-align: right;\n    }\n</style>\n<table border=\"1\" class=\"dataframe\">\n  <thead>\n    <tr style=\"text-align: right;\">\n      <th></th>\n      <th>buy_time</th>\n      <th>1</th>\n      <th>2</th>\n      <th>3</th>\n    </tr>\n    <tr>\n      <th>id</th>\n      <th></th>\n      <th></th>\n      <th></th>\n      <th></th>\n    </tr>\n  </thead>\n  <tbody>\n    <tr>\n      <th>3549398</th>\n      <td>2018-12-10</td>\n      <td>588.840888</td>\n      <td>426.489214</td>\n      <td>565.063202</td>\n    </tr>\n    <tr>\n      <th>3549398</th>\n      <td>2018-12-17</td>\n      <td>727.590888</td>\n      <td>185.129214</td>\n      <td>708.903202</td>\n    </tr>\n  </tbody>\n</table>\n</div>"
     },
     "execution_count": 132,
     "metadata": {},
     "output_type": "execute_result"
    }
   ],
   "source": [
    "feat_35=features_new[features_new.index == 3549398][['buy_time','1','2','3']]\n",
    "feat_35"
   ],
   "metadata": {
    "collapsed": false,
    "pycharm": {
     "name": "#%%\n"
    }
   }
  },
  {
   "cell_type": "code",
   "execution_count": 133,
   "outputs": [
    {
     "data": {
      "text/plain": "         vas_id   buy_time  target\nid                                \n3549398     2.0 2018-12-17     0.0\n3549398     4.0 2018-11-19     1.0",
      "text/html": "<div>\n<style scoped>\n    .dataframe tbody tr th:only-of-type {\n        vertical-align: middle;\n    }\n\n    .dataframe tbody tr th {\n        vertical-align: top;\n    }\n\n    .dataframe thead th {\n        text-align: right;\n    }\n</style>\n<table border=\"1\" class=\"dataframe\">\n  <thead>\n    <tr style=\"text-align: right;\">\n      <th></th>\n      <th>vas_id</th>\n      <th>buy_time</th>\n      <th>target</th>\n    </tr>\n    <tr>\n      <th>id</th>\n      <th></th>\n      <th></th>\n      <th></th>\n    </tr>\n  </thead>\n  <tbody>\n    <tr>\n      <th>3549398</th>\n      <td>2.0</td>\n      <td>2018-12-17</td>\n      <td>0.0</td>\n    </tr>\n    <tr>\n      <th>3549398</th>\n      <td>4.0</td>\n      <td>2018-11-19</td>\n      <td>1.0</td>\n    </tr>\n  </tbody>\n</table>\n</div>"
     },
     "execution_count": 133,
     "metadata": {},
     "output_type": "execute_result"
    }
   ],
   "source": [
    "data_35=data_train[data_train.index == 3549398]\n",
    "data_35"
   ],
   "metadata": {
    "collapsed": false,
    "pycharm": {
     "name": "#%%\n"
    }
   }
  },
  {
   "cell_type": "code",
   "execution_count": 134,
   "outputs": [
    {
     "data": {
      "text/plain": "         vas_id buy_time_x  target buy_time_y           1           2  \\\nid                                                                      \n3549398     2.0 2018-12-17     0.0 2018-12-10  588.840888  426.489214   \n3549398     2.0 2018-12-17     0.0 2018-12-17  727.590888  185.129214   \n3549398     4.0 2018-11-19     1.0 2018-12-10  588.840888  426.489214   \n3549398     4.0 2018-11-19     1.0 2018-12-17  727.590888  185.129214   \n\n                  3  \nid                   \n3549398  565.063202  \n3549398  708.903202  \n3549398  565.063202  \n3549398  708.903202  ",
      "text/html": "<div>\n<style scoped>\n    .dataframe tbody tr th:only-of-type {\n        vertical-align: middle;\n    }\n\n    .dataframe tbody tr th {\n        vertical-align: top;\n    }\n\n    .dataframe thead th {\n        text-align: right;\n    }\n</style>\n<table border=\"1\" class=\"dataframe\">\n  <thead>\n    <tr style=\"text-align: right;\">\n      <th></th>\n      <th>vas_id</th>\n      <th>buy_time_x</th>\n      <th>target</th>\n      <th>buy_time_y</th>\n      <th>1</th>\n      <th>2</th>\n      <th>3</th>\n    </tr>\n    <tr>\n      <th>id</th>\n      <th></th>\n      <th></th>\n      <th></th>\n      <th></th>\n      <th></th>\n      <th></th>\n      <th></th>\n    </tr>\n  </thead>\n  <tbody>\n    <tr>\n      <th>3549398</th>\n      <td>2.0</td>\n      <td>2018-12-17</td>\n      <td>0.0</td>\n      <td>2018-12-10</td>\n      <td>588.840888</td>\n      <td>426.489214</td>\n      <td>565.063202</td>\n    </tr>\n    <tr>\n      <th>3549398</th>\n      <td>2.0</td>\n      <td>2018-12-17</td>\n      <td>0.0</td>\n      <td>2018-12-17</td>\n      <td>727.590888</td>\n      <td>185.129214</td>\n      <td>708.903202</td>\n    </tr>\n    <tr>\n      <th>3549398</th>\n      <td>4.0</td>\n      <td>2018-11-19</td>\n      <td>1.0</td>\n      <td>2018-12-10</td>\n      <td>588.840888</td>\n      <td>426.489214</td>\n      <td>565.063202</td>\n    </tr>\n    <tr>\n      <th>3549398</th>\n      <td>4.0</td>\n      <td>2018-11-19</td>\n      <td>1.0</td>\n      <td>2018-12-17</td>\n      <td>727.590888</td>\n      <td>185.129214</td>\n      <td>708.903202</td>\n    </tr>\n  </tbody>\n</table>\n</div>"
     },
     "execution_count": 134,
     "metadata": {},
     "output_type": "execute_result"
    }
   ],
   "source": [
    "pd.merge(data_35,feat_35,how='outer',on='id')"
   ],
   "metadata": {
    "collapsed": false,
    "pycharm": {
     "name": "#%%\n"
    }
   }
  },
  {
   "cell_type": "code",
   "execution_count": null,
   "outputs": [],
   "source": [],
   "metadata": {
    "collapsed": false,
    "pycharm": {
     "name": "#%%\n"
    }
   }
  }
 ],
 "metadata": {
  "kernelspec": {
   "display_name": "Python 3 (ipykernel)",
   "language": "python",
   "name": "python3"
  },
  "language_info": {
   "codemirror_mode": {
    "name": "ipython",
    "version": 3
   },
   "file_extension": ".py",
   "mimetype": "text/x-python",
   "name": "python",
   "nbconvert_exporter": "python",
   "pygments_lexer": "ipython3",
   "version": "3.9.6"
  }
 },
 "nbformat": 4,
 "nbformat_minor": 1
}