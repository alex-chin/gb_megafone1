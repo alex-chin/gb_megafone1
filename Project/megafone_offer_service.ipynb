{
 "cells": [
  {
   "cell_type": "markdown",
   "metadata": {
    "collapsed": true,
    "pycharm": {
     "name": "#%% md\n"
    }
   },
   "source": [
    "## Постановка задачи\n",
    "У нас появился запрос из отдела продаж и маркетинга. Как вы знаете «МегаФон» предлагает обширный набор различных услуг своим абонентам. При этом разным пользователям интересны разные услуги. Поэтому необходимо построить  алгоритм, который **для каждой пары пользователь-услуга определит вероятность подключения услуги**."
   ]
  },
  {
   "cell_type": "markdown",
   "metadata": {
    "pycharm": {
     "name": "#%% md\n"
    }
   },
   "source": [
    "### Исходные данные\n",
    "\n",
    "#### наборы данных\n",
    "- **features.csv** (22Г): id, buy_time, <feature_list>\n",
    "нормализованный анонимизированный набор признаков, характеризующий профиль потребления абонента. Эти данные привязаны к определенному времени, поскольку профиль абонента может меняться с течением времени.\n",
    "- **data_train.csv** (27М): id, vas_id, buy_time, target\n",
    "информация об отклике абонентов на предложение подключения одной из услуг. Каждому пользователю может быть сделано несколько предложений в разное время, каждое из которых он может или принять, или отклонить.\n",
    "- **data_test.csv**: id, vas_id, buy_time\n",
    "тестовый набор\n",
    "\n",
    "#### переменные\n",
    "   - **target** - целевая переменная, где 1 означает подключение услуги, 0 - абонент не подключил услугу соответственно.\n",
    "   - **buy_time** - время покупки, представлено в формате timestamp, для работы с этим столбцом понадобится функция datetime.fromtimestamp из модуля datetime.\n",
    "   - **id** - идентификатор абонента\n",
    "   - **vas_id** - подключаемая услуга\n",
    "\n",
    "\n"
   ]
  },
  {
   "cell_type": "markdown",
   "metadata": {
    "pycharm": {
     "name": "#%% md\n"
    }
   },
   "source": [
    "### Анализ данных\n",
    "\n",
    "1. считаем data_train и data_test и проверим на разнообразие услуг и абонентов\n",
    "2. Восстановим наборы абонентов и услуг\n",
    "3. обработаем features.csv отфильруем только то что есть в data_train и data_test!\n",
    "\n",
    "![Схема](data_schema.png)"
   ]
  },
  {
   "cell_type": "code",
   "metadata": {
    "pycharm": {
     "name": "#%%\n"
    }
   },
   "source": [
    "import pandas as pd"
   ],
   "execution_count": 1,
   "outputs": []
  },
  {
   "cell_type": "markdown",
   "source": [
    "Считаем исходные данные"
   ],
   "metadata": {
    "collapsed": false,
    "pycharm": {
     "name": "#%% md\n"
    }
   }
  },
  {
   "cell_type": "code",
   "execution_count": 16,
   "outputs": [
    {
     "data": {
      "text/plain": "   Unnamed: 0       id  vas_id    buy_time  target\n0           0   540968     8.0  1537131600     0.0\n1           1  1454121     4.0  1531688400     0.0\n2           2  2458816     1.0  1534107600     0.0",
      "text/html": "<div>\n<style scoped>\n    .dataframe tbody tr th:only-of-type {\n        vertical-align: middle;\n    }\n\n    .dataframe tbody tr th {\n        vertical-align: top;\n    }\n\n    .dataframe thead th {\n        text-align: right;\n    }\n</style>\n<table border=\"1\" class=\"dataframe\">\n  <thead>\n    <tr style=\"text-align: right;\">\n      <th></th>\n      <th>Unnamed: 0</th>\n      <th>id</th>\n      <th>vas_id</th>\n      <th>buy_time</th>\n      <th>target</th>\n    </tr>\n  </thead>\n  <tbody>\n    <tr>\n      <th>0</th>\n      <td>0</td>\n      <td>540968</td>\n      <td>8.0</td>\n      <td>1537131600</td>\n      <td>0.0</td>\n    </tr>\n    <tr>\n      <th>1</th>\n      <td>1</td>\n      <td>1454121</td>\n      <td>4.0</td>\n      <td>1531688400</td>\n      <td>0.0</td>\n    </tr>\n    <tr>\n      <th>2</th>\n      <td>2</td>\n      <td>2458816</td>\n      <td>1.0</td>\n      <td>1534107600</td>\n      <td>0.0</td>\n    </tr>\n  </tbody>\n</table>\n</div>"
     },
     "execution_count": 16,
     "metadata": {},
     "output_type": "execute_result"
    }
   ],
   "source": [
    "data_train=pd.read_csv('data_train.csv')\n",
    "data_train.head(3)"
   ],
   "metadata": {
    "collapsed": false,
    "pycharm": {
     "name": "#%%\n"
    }
   }
  },
  {
   "cell_type": "code",
   "execution_count": 18,
   "outputs": [
    {
     "data": {
      "text/plain": "   Unnamed: 0       id  vas_id    buy_time\n0           0  3130519     2.0  1548018000\n1           1  2000860     4.0  1548018000\n2           2  1099444     2.0  1546808400",
      "text/html": "<div>\n<style scoped>\n    .dataframe tbody tr th:only-of-type {\n        vertical-align: middle;\n    }\n\n    .dataframe tbody tr th {\n        vertical-align: top;\n    }\n\n    .dataframe thead th {\n        text-align: right;\n    }\n</style>\n<table border=\"1\" class=\"dataframe\">\n  <thead>\n    <tr style=\"text-align: right;\">\n      <th></th>\n      <th>Unnamed: 0</th>\n      <th>id</th>\n      <th>vas_id</th>\n      <th>buy_time</th>\n    </tr>\n  </thead>\n  <tbody>\n    <tr>\n      <th>0</th>\n      <td>0</td>\n      <td>3130519</td>\n      <td>2.0</td>\n      <td>1548018000</td>\n    </tr>\n    <tr>\n      <th>1</th>\n      <td>1</td>\n      <td>2000860</td>\n      <td>4.0</td>\n      <td>1548018000</td>\n    </tr>\n    <tr>\n      <th>2</th>\n      <td>2</td>\n      <td>1099444</td>\n      <td>2.0</td>\n      <td>1546808400</td>\n    </tr>\n  </tbody>\n</table>\n</div>"
     },
     "execution_count": 18,
     "metadata": {},
     "output_type": "execute_result"
    }
   ],
   "source": [
    "data_test=pd.read_csv('data_test.csv')\n",
    "data_test.head(3)"
   ],
   "metadata": {
    "collapsed": false,
    "pycharm": {
     "name": "#%%\n"
    }
   }
  },
  {
   "cell_type": "markdown",
   "source": [
    "Объединим наборы для восстановления id абонентов"
   ],
   "metadata": {
    "collapsed": false,
    "pycharm": {
     "name": "#%% md\n"
    }
   }
  },
  {
   "cell_type": "code",
   "execution_count": 26,
   "outputs": [
    {
     "data": {
      "text/plain": "   Unnamed: 0       id  vas_id    buy_time\n0           0   540968     8.0  1537131600\n1           1  1454121     4.0  1531688400\n2           2  2458816     1.0  1534107600",
      "text/html": "<div>\n<style scoped>\n    .dataframe tbody tr th:only-of-type {\n        vertical-align: middle;\n    }\n\n    .dataframe tbody tr th {\n        vertical-align: top;\n    }\n\n    .dataframe thead th {\n        text-align: right;\n    }\n</style>\n<table border=\"1\" class=\"dataframe\">\n  <thead>\n    <tr style=\"text-align: right;\">\n      <th></th>\n      <th>Unnamed: 0</th>\n      <th>id</th>\n      <th>vas_id</th>\n      <th>buy_time</th>\n    </tr>\n  </thead>\n  <tbody>\n    <tr>\n      <th>0</th>\n      <td>0</td>\n      <td>540968</td>\n      <td>8.0</td>\n      <td>1537131600</td>\n    </tr>\n    <tr>\n      <th>1</th>\n      <td>1</td>\n      <td>1454121</td>\n      <td>4.0</td>\n      <td>1531688400</td>\n    </tr>\n    <tr>\n      <th>2</th>\n      <td>2</td>\n      <td>2458816</td>\n      <td>1.0</td>\n      <td>1534107600</td>\n    </tr>\n  </tbody>\n</table>\n</div>"
     },
     "execution_count": 26,
     "metadata": {},
     "output_type": "execute_result"
    }
   ],
   "source": [
    "data_all = pd.concat([data_train.drop(columns='target'), data_test])\n",
    "data_all.head(3)"
   ],
   "metadata": {
    "collapsed": false,
    "pycharm": {
     "name": "#%%\n"
    }
   }
  },
  {
   "cell_type": "code",
   "execution_count": 27,
   "outputs": [
    {
     "data": {
      "text/plain": "(902884, 872577, 8)"
     },
     "execution_count": 27,
     "metadata": {},
     "output_type": "execute_result"
    }
   ],
   "source": [
    "data_all.shape[0], data_all.id.nunique(), data_all.vas_id.nunique()"
   ],
   "metadata": {
    "collapsed": false,
    "pycharm": {
     "name": "#%%\n"
    }
   }
  },
  {
   "cell_type": "markdown",
   "source": [
    "> нам необходимо отфильтровать features.csv по 872 тыс абонентов"
   ],
   "metadata": {
    "collapsed": false,
    "pycharm": {
     "name": "#%% md\n"
    }
   }
  },
  {
   "cell_type": "markdown",
   "source": [
    "Создадим для экспериментов срез файла features.csv - первые 5 тыс. записей"
   ],
   "metadata": {
    "collapsed": false,
    "pycharm": {
     "name": "#%% md\n"
    }
   }
  },
  {
   "cell_type": "code",
   "execution_count": 38,
   "outputs": [
    {
     "name": "stdout",
     "output_type": "stream",
     "text": [
      "4900 98\t2402038\t154559880\n",
      "4800 198\t2813843\t15462036\n",
      "4700 298\t3554903\t15328980\n",
      "4600 398\t3661489\t15419700\n",
      "4500 498\t3748859\t15310836\n",
      "4400 598\t3863771\t15468084\n",
      "4300 698\t3963168\t15322932\n",
      "4200 798\t4047744\t15377364\n",
      "4100 898\t4129298\t15310836\n",
      "4000 998\t4201230\t15322932\n",
      "3900 1098\t4270438\t1538946\n",
      "3800 1198\t4344118\t1535922\n",
      "3700 1298\t50258\t154257480\n",
      "3600 1398\t133220\t15389460\n",
      "3500 1498\t216934\t15310836\n",
      "3400 1598\t293264\t15377364\n",
      "3300 1698\t366781\t15455988\n",
      "3200 1798\t439178\t15365268\n",
      "3100 1898\t568256\t15425748\n",
      "3000 1998\t879298\t15310836\n",
      "2900 2098\t923040\t15449940\n",
      "2800 2198\t942906\t15449940\n",
      "2700 2298\t961432\t15462036\n",
      "2600 2398\t981936\t15377364\n",
      "2500 2498\t1004744\t1541365\n",
      "2400 2598\t1040382\t1532293\n",
      "2300 2698\t1071139\t1545598\n",
      "2200 2798\t1089994\t1533502\n",
      "2100 2898\t1111412\t1535317\n",
      "2000 2998\t1128739\t1544994\n",
      "1900 3098\t1146979\t1534107\n",
      "1800 3198\t1165797\t1546203\n",
      "1700 3298\t1186322\t1536526\n",
      "1600 3398\t1241864\t1544389\n",
      "1500 3498\t1257553\t1535317\n",
      "1400 3598\t1278188\t1544389\n",
      "1300 3698\t1297428\t1543784\n",
      "1200 3798\t1317219\t1542574\n",
      "1100 3898\t1334822\t1531688\n",
      "1000 3998\t1356463\t1534107\n",
      "900 4098\t1376797\t1542574\n",
      "800 4198\t1395045\t1541365\n",
      "700 4298\t1413731\t1534107\n",
      "600 4398\t1432856\t1541970\n",
      "500 4498\t1453134\t1536526\n",
      "400 4598\t1469450\t1535922\n",
      "300 4698\t1485273\t1535317\n",
      "200 4798\t1514715\t1546203\n",
      "100 4898\t1749811\t1532293\n",
      "0 4998\t1866399\t1535317\n"
     ]
    }
   ],
   "source": [
    "num_lines = 5000\n",
    "with open(\"features_lite.csv\", \"x\") as lite:\n",
    "    with open(\"features.csv\") as f:\n",
    "       for line in f:\n",
    "           lite.write(line)\n",
    "           num_lines -= 1\n",
    "           if num_lines%100 == 0:\n",
    "               print(num_lines, line[0:20])\n",
    "           if num_lines <= 0:\n",
    "               break"
   ],
   "metadata": {
    "collapsed": false,
    "pycharm": {
     "name": "#%%\n"
    }
   }
  },
  {
   "cell_type": "code",
   "execution_count": 40,
   "outputs": [
    {
     "data": {
      "text/plain": "   Unnamed: 0       id    buy_time          0           1           2  \\\n0           0  2013026  1531688400  18.910029   46.980888    4.969214   \n1           1  2014722  1539550800  36.690029  152.400888  448.069214   \n2           2  2015199  1545598800 -67.019971  157.050888  -63.180786   \n\n            3           4          5         6  ...         243         244  \\\n0   -1.386798    3.791754  -14.01179 -16.08618  ... -977.373846 -613.770792   \n1  563.833202  463.841754  568.99821 -16.08618  ... -891.373846 -544.770792   \n2  178.103202  -68.598246  156.99821   3.51382  ... -977.373846 -613.770792   \n\n         245        246           247        248       249        250  \\\n0 -25.996269 -37.630448   -301.747724 -25.832889 -0.694428 -12.175933   \n1 -20.996269  48.369552     80.252276 -13.832889 -0.694428  -1.175933   \n2 -12.996269 -37.630448  10829.252276 -25.832889 -0.694428 -12.175933   \n\n       251  252  \n0 -0.45614  0.0  \n1 -0.45614  0.0  \n2 -0.45614  0.0  \n\n[3 rows x 256 columns]",
      "text/html": "<div>\n<style scoped>\n    .dataframe tbody tr th:only-of-type {\n        vertical-align: middle;\n    }\n\n    .dataframe tbody tr th {\n        vertical-align: top;\n    }\n\n    .dataframe thead th {\n        text-align: right;\n    }\n</style>\n<table border=\"1\" class=\"dataframe\">\n  <thead>\n    <tr style=\"text-align: right;\">\n      <th></th>\n      <th>Unnamed: 0</th>\n      <th>id</th>\n      <th>buy_time</th>\n      <th>0</th>\n      <th>1</th>\n      <th>2</th>\n      <th>3</th>\n      <th>4</th>\n      <th>5</th>\n      <th>6</th>\n      <th>...</th>\n      <th>243</th>\n      <th>244</th>\n      <th>245</th>\n      <th>246</th>\n      <th>247</th>\n      <th>248</th>\n      <th>249</th>\n      <th>250</th>\n      <th>251</th>\n      <th>252</th>\n    </tr>\n  </thead>\n  <tbody>\n    <tr>\n      <th>0</th>\n      <td>0</td>\n      <td>2013026</td>\n      <td>1531688400</td>\n      <td>18.910029</td>\n      <td>46.980888</td>\n      <td>4.969214</td>\n      <td>-1.386798</td>\n      <td>3.791754</td>\n      <td>-14.01179</td>\n      <td>-16.08618</td>\n      <td>...</td>\n      <td>-977.373846</td>\n      <td>-613.770792</td>\n      <td>-25.996269</td>\n      <td>-37.630448</td>\n      <td>-301.747724</td>\n      <td>-25.832889</td>\n      <td>-0.694428</td>\n      <td>-12.175933</td>\n      <td>-0.45614</td>\n      <td>0.0</td>\n    </tr>\n    <tr>\n      <th>1</th>\n      <td>1</td>\n      <td>2014722</td>\n      <td>1539550800</td>\n      <td>36.690029</td>\n      <td>152.400888</td>\n      <td>448.069214</td>\n      <td>563.833202</td>\n      <td>463.841754</td>\n      <td>568.99821</td>\n      <td>-16.08618</td>\n      <td>...</td>\n      <td>-891.373846</td>\n      <td>-544.770792</td>\n      <td>-20.996269</td>\n      <td>48.369552</td>\n      <td>80.252276</td>\n      <td>-13.832889</td>\n      <td>-0.694428</td>\n      <td>-1.175933</td>\n      <td>-0.45614</td>\n      <td>0.0</td>\n    </tr>\n    <tr>\n      <th>2</th>\n      <td>2</td>\n      <td>2015199</td>\n      <td>1545598800</td>\n      <td>-67.019971</td>\n      <td>157.050888</td>\n      <td>-63.180786</td>\n      <td>178.103202</td>\n      <td>-68.598246</td>\n      <td>156.99821</td>\n      <td>3.51382</td>\n      <td>...</td>\n      <td>-977.373846</td>\n      <td>-613.770792</td>\n      <td>-12.996269</td>\n      <td>-37.630448</td>\n      <td>10829.252276</td>\n      <td>-25.832889</td>\n      <td>-0.694428</td>\n      <td>-12.175933</td>\n      <td>-0.45614</td>\n      <td>0.0</td>\n    </tr>\n  </tbody>\n</table>\n<p>3 rows × 256 columns</p>\n</div>"
     },
     "execution_count": 40,
     "metadata": {},
     "output_type": "execute_result"
    }
   ],
   "source": [
    "features = pd.read_csv('features_lite.csv', sep=\"\\t\")\n",
    "features.head(3)"
   ],
   "metadata": {
    "collapsed": false,
    "pycharm": {
     "name": "#%%\n"
    }
   }
  },
  {
   "cell_type": "code",
   "execution_count": 42,
   "outputs": [
    {
     "data": {
      "text/plain": "(4999, 256)"
     },
     "execution_count": 42,
     "metadata": {},
     "output_type": "execute_result"
    }
   ],
   "source": [
    "features.shape"
   ],
   "metadata": {
    "collapsed": false,
    "pycharm": {
     "name": "#%%\n"
    }
   }
  },
  {
   "cell_type": "code",
   "execution_count": 44,
   "outputs": [],
   "source": [
    "merge=features.id.isin(data_all.id)\n",
    "features1 = features[merge]"
   ],
   "metadata": {
    "collapsed": false,
    "pycharm": {
     "name": "#%%\n"
    }
   }
  },
  {
   "cell_type": "code",
   "execution_count": 45,
   "outputs": [
    {
     "data": {
      "text/plain": "      Unnamed: 0       id    buy_time           0            1           2  \\\n13            13  2046132  1534712400  300.820029  1599.480888  286.879214   \n16            16  2050810  1540760400  -86.209971    91.820888  -84.480786   \n19            19  2070757  1540760400  -96.799971  -408.179112 -110.740786   \n20            20  2071522  1544994000  -94.939971  -363.699112 -108.880786   \n22            22  2075318  1533502800  -75.639971   669.690888  -89.580786   \n...          ...      ...         ...         ...          ...         ...   \n4962        4962  1826618  1532293200   -1.109971   -25.419112    6.919214   \n4969        4969  1840249  1544389200  -96.799971   -88.699112 -110.740786   \n4974        4974  1843245  1533502800  -34.509971  -142.499112  -48.450786   \n4983        4983  1852915  1535317200   85.380029   692.640888   79.919214   \n4989        4989  1855510  1535317200  -25.619971  -123.439112  -39.560786   \n\n                3           4           5         6  ...         243  \\\n13    1585.013202  281.461754  1563.90821 -16.08618  ... -977.373846   \n16     110.333202  -89.898246    89.22821 -16.08618  ... -977.373846   \n19    -460.786798 -114.038246  -479.77179 -16.08618  ... -925.373846   \n20    -411.226798 -114.298246  -432.33179 -16.08618  ... -977.373846   \n22     732.343202  -94.998246   736.65821 -16.08618  ... -501.373846   \n...           ...         ...         ...       ...  ...         ...   \n4962    14.923202    1.501754    -6.18179 -16.08618  ... -977.373846   \n4969  -141.306798 -113.618246  -159.87179 -16.08618  ... -969.373846   \n4974  -195.106798  -53.868246  -165.36179 -16.08618  ... -976.373846   \n4983   665.463202   74.501754   778.25821 -16.08618  ... -872.373846   \n4989  -176.046798  -44.978246  -197.15179 -16.08618  ... -696.373846   \n\n             244        245         246         247        248        249  \\\n13   -613.770792 -25.996269  -35.630448 -295.747724 -17.832889  -0.694428   \n16   -613.770792 -23.996269  190.369552 -286.747724 -25.832889  -0.694428   \n19   -561.770792 -21.996269  -37.630448 -151.747724 -24.832889   0.305572   \n20   -613.770792 -25.996269  -37.630448 -306.747724 -25.832889  -0.694428   \n22   -242.770792 -25.996269  -37.630448 -167.747724 -14.832889   2.305572   \n...          ...        ...         ...         ...        ...        ...   \n4962 -613.770792 -14.996269  -35.630448 -304.747724 -25.832889  -0.694428   \n4969 -606.770792 -19.996269  -33.630448 -250.747724  -5.832889  13.305572   \n4974 -613.770792 -25.996269  -32.630448 -225.747724 -15.832889  -0.694428   \n4983 -557.770792  -6.996269  -35.630448 -210.747724  13.167111  -0.694428   \n4989 -342.770792 -25.996269  -37.630448 -236.747724  -9.832889  -0.694428   \n\n            250      251  252  \n13    -4.175933 -0.45614  0.0  \n16   -12.175933 -0.45614  0.0  \n19   -12.175933 -0.45614  1.0  \n20   -12.175933 -0.45614  0.0  \n22    -4.175933 -0.45614  0.0  \n...         ...      ...  ...  \n4962 -12.175933 -0.45614  1.0  \n4969 -12.175933 -0.45614  1.0  \n4974  -2.175933 -0.45614  0.0  \n4983  26.824067 -0.45614  1.0  \n4989   2.824067  0.54386  0.0  \n\n[946 rows x 256 columns]",
      "text/html": "<div>\n<style scoped>\n    .dataframe tbody tr th:only-of-type {\n        vertical-align: middle;\n    }\n\n    .dataframe tbody tr th {\n        vertical-align: top;\n    }\n\n    .dataframe thead th {\n        text-align: right;\n    }\n</style>\n<table border=\"1\" class=\"dataframe\">\n  <thead>\n    <tr style=\"text-align: right;\">\n      <th></th>\n      <th>Unnamed: 0</th>\n      <th>id</th>\n      <th>buy_time</th>\n      <th>0</th>\n      <th>1</th>\n      <th>2</th>\n      <th>3</th>\n      <th>4</th>\n      <th>5</th>\n      <th>6</th>\n      <th>...</th>\n      <th>243</th>\n      <th>244</th>\n      <th>245</th>\n      <th>246</th>\n      <th>247</th>\n      <th>248</th>\n      <th>249</th>\n      <th>250</th>\n      <th>251</th>\n      <th>252</th>\n    </tr>\n  </thead>\n  <tbody>\n    <tr>\n      <th>13</th>\n      <td>13</td>\n      <td>2046132</td>\n      <td>1534712400</td>\n      <td>300.820029</td>\n      <td>1599.480888</td>\n      <td>286.879214</td>\n      <td>1585.013202</td>\n      <td>281.461754</td>\n      <td>1563.90821</td>\n      <td>-16.08618</td>\n      <td>...</td>\n      <td>-977.373846</td>\n      <td>-613.770792</td>\n      <td>-25.996269</td>\n      <td>-35.630448</td>\n      <td>-295.747724</td>\n      <td>-17.832889</td>\n      <td>-0.694428</td>\n      <td>-4.175933</td>\n      <td>-0.45614</td>\n      <td>0.0</td>\n    </tr>\n    <tr>\n      <th>16</th>\n      <td>16</td>\n      <td>2050810</td>\n      <td>1540760400</td>\n      <td>-86.209971</td>\n      <td>91.820888</td>\n      <td>-84.480786</td>\n      <td>110.333202</td>\n      <td>-89.898246</td>\n      <td>89.22821</td>\n      <td>-16.08618</td>\n      <td>...</td>\n      <td>-977.373846</td>\n      <td>-613.770792</td>\n      <td>-23.996269</td>\n      <td>190.369552</td>\n      <td>-286.747724</td>\n      <td>-25.832889</td>\n      <td>-0.694428</td>\n      <td>-12.175933</td>\n      <td>-0.45614</td>\n      <td>0.0</td>\n    </tr>\n    <tr>\n      <th>19</th>\n      <td>19</td>\n      <td>2070757</td>\n      <td>1540760400</td>\n      <td>-96.799971</td>\n      <td>-408.179112</td>\n      <td>-110.740786</td>\n      <td>-460.786798</td>\n      <td>-114.038246</td>\n      <td>-479.77179</td>\n      <td>-16.08618</td>\n      <td>...</td>\n      <td>-925.373846</td>\n      <td>-561.770792</td>\n      <td>-21.996269</td>\n      <td>-37.630448</td>\n      <td>-151.747724</td>\n      <td>-24.832889</td>\n      <td>0.305572</td>\n      <td>-12.175933</td>\n      <td>-0.45614</td>\n      <td>1.0</td>\n    </tr>\n    <tr>\n      <th>20</th>\n      <td>20</td>\n      <td>2071522</td>\n      <td>1544994000</td>\n      <td>-94.939971</td>\n      <td>-363.699112</td>\n      <td>-108.880786</td>\n      <td>-411.226798</td>\n      <td>-114.298246</td>\n      <td>-432.33179</td>\n      <td>-16.08618</td>\n      <td>...</td>\n      <td>-977.373846</td>\n      <td>-613.770792</td>\n      <td>-25.996269</td>\n      <td>-37.630448</td>\n      <td>-306.747724</td>\n      <td>-25.832889</td>\n      <td>-0.694428</td>\n      <td>-12.175933</td>\n      <td>-0.45614</td>\n      <td>0.0</td>\n    </tr>\n    <tr>\n      <th>22</th>\n      <td>22</td>\n      <td>2075318</td>\n      <td>1533502800</td>\n      <td>-75.639971</td>\n      <td>669.690888</td>\n      <td>-89.580786</td>\n      <td>732.343202</td>\n      <td>-94.998246</td>\n      <td>736.65821</td>\n      <td>-16.08618</td>\n      <td>...</td>\n      <td>-501.373846</td>\n      <td>-242.770792</td>\n      <td>-25.996269</td>\n      <td>-37.630448</td>\n      <td>-167.747724</td>\n      <td>-14.832889</td>\n      <td>2.305572</td>\n      <td>-4.175933</td>\n      <td>-0.45614</td>\n      <td>0.0</td>\n    </tr>\n    <tr>\n      <th>...</th>\n      <td>...</td>\n      <td>...</td>\n      <td>...</td>\n      <td>...</td>\n      <td>...</td>\n      <td>...</td>\n      <td>...</td>\n      <td>...</td>\n      <td>...</td>\n      <td>...</td>\n      <td>...</td>\n      <td>...</td>\n      <td>...</td>\n      <td>...</td>\n      <td>...</td>\n      <td>...</td>\n      <td>...</td>\n      <td>...</td>\n      <td>...</td>\n      <td>...</td>\n      <td>...</td>\n    </tr>\n    <tr>\n      <th>4962</th>\n      <td>4962</td>\n      <td>1826618</td>\n      <td>1532293200</td>\n      <td>-1.109971</td>\n      <td>-25.419112</td>\n      <td>6.919214</td>\n      <td>14.923202</td>\n      <td>1.501754</td>\n      <td>-6.18179</td>\n      <td>-16.08618</td>\n      <td>...</td>\n      <td>-977.373846</td>\n      <td>-613.770792</td>\n      <td>-14.996269</td>\n      <td>-35.630448</td>\n      <td>-304.747724</td>\n      <td>-25.832889</td>\n      <td>-0.694428</td>\n      <td>-12.175933</td>\n      <td>-0.45614</td>\n      <td>1.0</td>\n    </tr>\n    <tr>\n      <th>4969</th>\n      <td>4969</td>\n      <td>1840249</td>\n      <td>1544389200</td>\n      <td>-96.799971</td>\n      <td>-88.699112</td>\n      <td>-110.740786</td>\n      <td>-141.306798</td>\n      <td>-113.618246</td>\n      <td>-159.87179</td>\n      <td>-16.08618</td>\n      <td>...</td>\n      <td>-969.373846</td>\n      <td>-606.770792</td>\n      <td>-19.996269</td>\n      <td>-33.630448</td>\n      <td>-250.747724</td>\n      <td>-5.832889</td>\n      <td>13.305572</td>\n      <td>-12.175933</td>\n      <td>-0.45614</td>\n      <td>1.0</td>\n    </tr>\n    <tr>\n      <th>4974</th>\n      <td>4974</td>\n      <td>1843245</td>\n      <td>1533502800</td>\n      <td>-34.509971</td>\n      <td>-142.499112</td>\n      <td>-48.450786</td>\n      <td>-195.106798</td>\n      <td>-53.868246</td>\n      <td>-165.36179</td>\n      <td>-16.08618</td>\n      <td>...</td>\n      <td>-976.373846</td>\n      <td>-613.770792</td>\n      <td>-25.996269</td>\n      <td>-32.630448</td>\n      <td>-225.747724</td>\n      <td>-15.832889</td>\n      <td>-0.694428</td>\n      <td>-2.175933</td>\n      <td>-0.45614</td>\n      <td>0.0</td>\n    </tr>\n    <tr>\n      <th>4983</th>\n      <td>4983</td>\n      <td>1852915</td>\n      <td>1535317200</td>\n      <td>85.380029</td>\n      <td>692.640888</td>\n      <td>79.919214</td>\n      <td>665.463202</td>\n      <td>74.501754</td>\n      <td>778.25821</td>\n      <td>-16.08618</td>\n      <td>...</td>\n      <td>-872.373846</td>\n      <td>-557.770792</td>\n      <td>-6.996269</td>\n      <td>-35.630448</td>\n      <td>-210.747724</td>\n      <td>13.167111</td>\n      <td>-0.694428</td>\n      <td>26.824067</td>\n      <td>-0.45614</td>\n      <td>1.0</td>\n    </tr>\n    <tr>\n      <th>4989</th>\n      <td>4989</td>\n      <td>1855510</td>\n      <td>1535317200</td>\n      <td>-25.619971</td>\n      <td>-123.439112</td>\n      <td>-39.560786</td>\n      <td>-176.046798</td>\n      <td>-44.978246</td>\n      <td>-197.15179</td>\n      <td>-16.08618</td>\n      <td>...</td>\n      <td>-696.373846</td>\n      <td>-342.770792</td>\n      <td>-25.996269</td>\n      <td>-37.630448</td>\n      <td>-236.747724</td>\n      <td>-9.832889</td>\n      <td>-0.694428</td>\n      <td>2.824067</td>\n      <td>0.54386</td>\n      <td>0.0</td>\n    </tr>\n  </tbody>\n</table>\n<p>946 rows × 256 columns</p>\n</div>"
     },
     "execution_count": 45,
     "metadata": {},
     "output_type": "execute_result"
    }
   ],
   "source": [
    "features1"
   ],
   "metadata": {
    "collapsed": false,
    "pycharm": {
     "name": "#%%\n"
    }
   }
  },
  {
   "cell_type": "code",
   "execution_count": 47,
   "outputs": [
    {
     "data": {
      "text/plain": "(2, 4362720)"
     },
     "execution_count": 47,
     "metadata": {},
     "output_type": "execute_result"
    }
   ],
   "source": [
    "data_all.id.min(), data_all.id.max()"
   ],
   "metadata": {
    "collapsed": false,
    "pycharm": {
     "name": "#%%\n"
    }
   }
  },
  {
   "cell_type": "code",
   "execution_count": 49,
   "outputs": [
    {
     "data": {
      "text/plain": "946"
     },
     "execution_count": 49,
     "metadata": {},
     "output_type": "execute_result"
    }
   ],
   "source": [
    "features1.id.value_counts().sum()"
   ],
   "metadata": {
    "collapsed": false,
    "pycharm": {
     "name": "#%%\n"
    }
   }
  },
  {
   "cell_type": "code",
   "execution_count": null,
   "outputs": [],
   "source": [],
   "metadata": {
    "collapsed": false,
    "pycharm": {
     "name": "#%%\n"
    }
   }
  }
 ],
 "metadata": {
  "kernelspec": {
   "display_name": "Python 3 (ipykernel)",
   "language": "python",
   "name": "python3"
  },
  "language_info": {
   "codemirror_mode": {
    "name": "ipython",
    "version": 3
   },
   "file_extension": ".py",
   "mimetype": "text/x-python",
   "name": "python",
   "nbconvert_exporter": "python",
   "pygments_lexer": "ipython3",
   "version": "3.9.6"
  }
 },
 "nbformat": 4,
 "nbformat_minor": 1
}