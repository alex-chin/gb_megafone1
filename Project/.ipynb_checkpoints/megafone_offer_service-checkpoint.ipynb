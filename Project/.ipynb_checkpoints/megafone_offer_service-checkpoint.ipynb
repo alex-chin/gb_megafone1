{
 "cells": [
  {
   "cell_type": "markdown",
   "metadata": {
    "collapsed": true,
    "pycharm": {
     "name": "#%% md\n"
    }
   },
   "source": [
    "## Постановка задачи\n",
    "У нас появился запрос из отдела продаж и маркетинга. Как вы знаете «МегаФон» предлагает обширный набор различных услуг своим абонентам. При этом разным пользователям интересны разные услуги. Поэтому необходимо построить  алгоритм, который **для каждой пары пользователь-услуга определит вероятность подключения услуги**."
   ]
  },
  {
   "cell_type": "markdown",
   "metadata": {
    "pycharm": {
     "name": "#%% md\n"
    }
   },
   "source": [
    "### Исходные данные\n",
    "\n",
    "#### наборы данных\n",
    "- **features.csv** (22Г): id, buy_time, <feature_list>\n",
    "нормализованный анонимизированный набор признаков, характеризующий профиль потребления абонента. Эти данные привязаны к определенному времени, поскольку профиль абонента может меняться с течением времени.\n",
    "- **data_train.csv** (27М): id, vas_id, buy_time, target\n",
    "информация об отклике абонентов на предложение подключения одной из услуг. Каждому пользователю может быть сделано несколько предложений в разное время, каждое из которых он может или принять, или отклонить.\n",
    "- **data_test.csv**: id, vas_id, buy_time\n",
    "тестовый набор\n",
    "\n",
    "#### переменные\n",
    "   - **target** - целевая переменная, где 1 означает подключение услуги, 0 - абонент не подключил услугу соответственно.\n",
    "   - **buy_time** - время покупки, представлено в формате timestamp, для работы с этим столбцом понадобится функция datetime.fromtimestamp из модуля datetime.\n",
    "   - **id** - идентификатор абонента\n",
    "   - **vas_id** - подключаемая услуга\n",
    "\n",
    "\n"
   ]
  },
  {
   "cell_type": "markdown",
   "metadata": {
    "pycharm": {
     "name": "#%% md\n"
    }
   },
   "source": [
    "### Анализ данных\n",
    "\n",
    "1. считаем data_train и data_test и проверим на разнообразие услуг и абонентов\n",
    "2. обработаем features.csv отфильруем только то что есть в data_train и data_test!\n",
    "\n",
    "[Схема](data_schema.png)"
   ]
  },
  {
   "cell_type": "markdown",
   "metadata": {},
   "source": []
  }
 ],
 "metadata": {
  "kernelspec": {
   "display_name": "Python 3 (ipykernel)",
   "language": "python",
   "name": "python3"
  },
  "language_info": {
   "codemirror_mode": {
    "name": "ipython",
    "version": 3
   },
   "file_extension": ".py",
   "mimetype": "text/x-python",
   "name": "python",
   "nbconvert_exporter": "python",
   "pygments_lexer": "ipython3",
   "version": "3.9.6"
  }
 },
 "nbformat": 4,
 "nbformat_minor": 1
}
